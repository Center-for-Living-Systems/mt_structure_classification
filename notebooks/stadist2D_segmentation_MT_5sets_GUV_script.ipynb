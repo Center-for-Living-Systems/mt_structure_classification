{
 "cells": [
  {
   "cell_type": "markdown",
   "metadata": {},
   "source": [
    "This notebook for Stardist applicationis adoptted from https://github.com/stardist/stardist/blob/main/examples/2D/3_prediction.ipynb\n",
    "\n",
    "Students can use this as an initial notebook for more images with specific models and parameters.\n",
    "\n",
    "Liya Ding 2024.10.01"
   ]
  },
  {
   "cell_type": "code",
   "execution_count": 1,
   "metadata": {},
   "outputs": [
    {
     "name": "stderr",
     "output_type": "stream",
     "text": [
      "2025-02-18 14:13:56.484081: I tensorflow/core/util/port.cc:110] oneDNN custom operations are on. You may see slightly different numerical results due to floating-point round-off errors from different computation orders. To turn them off, set the environment variable `TF_ENABLE_ONEDNN_OPTS=0`.\n",
      "2025-02-18 14:13:56.508640: I tensorflow/core/platform/cpu_feature_guard.cc:182] This TensorFlow binary is optimized to use available CPU instructions in performance-critical operations.\n",
      "To enable the following instructions: AVX2 AVX_VNNI FMA, in other operations, rebuild TensorFlow with the appropriate compiler flags.\n",
      "2025-02-18 14:13:56.897660: W tensorflow/compiler/tf2tensorrt/utils/py_utils.cc:38] TF-TRT Warning: Could not find TensorRT\n"
     ]
    }
   ],
   "source": [
    "import sys\n",
    "import os\n",
    "from glob import glob\n",
    "import numpy as np\n",
    "import matplotlib.pyplot as plt\n",
    "from tifffile import imread, imwrite\n",
    "from csbdeep.utils import normalize\n",
    "from csbdeep.utils import download_and_extract_zip_file\n",
    "import tifffile\n",
    "from skimage.transform import resize\n",
    "from stardist import random_label_cmap, _draw_polygons\n",
    "from stardist.models import StarDist2D\n",
    "import pandas as pd\n",
    "np.random.seed(6)\n",
    "lbl_cmap = random_label_cmap()"
   ]
  },
  {
   "cell_type": "code",
   "execution_count": 2,
   "metadata": {},
   "outputs": [],
   "source": [
    "root_folder = '/mnt/d/lding/CLS/mousumiLiuDinner/raw_data/Microtubule_GUV-Liu-20250106T211105Z-001'\n",
    "\n",
    "folder_list = [x for x in os.listdir(root_folder) if os.path.isdir(os.path.join(root_folder, x)) ]"
   ]
  },
  {
   "cell_type": "code",
   "execution_count": 3,
   "metadata": {},
   "outputs": [],
   "source": [
    "output_folder = '/mnt/d/lding/CLS/mousumiLiuDinner/set1to5_processed_results'\n",
    "processed_folder = output_folder+'/Microtubule_GUV-Liu-20250106T211105Z-001/processed_MT/'\n",
    "\n",
    "if not os.path.isdir(output_folder):   os.makedirs(output_folder)\n",
    "if not os.path.isdir(processed_folder):   os.makedirs(processed_folder)\n"
   ]
  },
  {
   "cell_type": "code",
   "execution_count": 4,
   "metadata": {},
   "outputs": [
    {
     "data": {
      "text/plain": [
       "['Microtubule_GUV-Liu', 'processed_MT']"
      ]
     },
     "execution_count": 4,
     "metadata": {},
     "output_type": "execute_result"
    }
   ],
   "source": [
    "folder_list"
   ]
  },
  {
   "cell_type": "code",
   "execution_count": 5,
   "metadata": {},
   "outputs": [
    {
     "name": "stdout",
     "output_type": "stream",
     "text": [
      "/mnt/d/lding/CLS/mousumiLiuDinner/raw_data/Microtubule_GUV-Liu-20250106T211105Z-001/Microtubule_GUV-Liu\n",
      "/mnt/d/lding/CLS/mousumiLiuDinner/raw_data/Microtubule_GUV-Liu-20250106T211105Z-001/processed_MT\n"
     ]
    }
   ],
   "source": [
    "df = pd.DataFrame(columns=['folder_path','file_name','condition','date'])\n",
    "\n",
    "for  folder_ID in range(len(folder_list)):\n",
    "    sub_folder = os.path.join(root_folder, folder_list[folder_ID])\n",
    "    print(sub_folder)\n",
    "    sub_folder_list = [x for x in os.listdir(sub_folder) if os.path.isdir(os.path.join(sub_folder, x)) ]\n",
    "    for  sub_folder_ID in range(len(sub_folder_list)):\n",
    "        sub_sub_folder =  os.path.join(sub_folder, sub_folder_list[sub_folder_ID])\n",
    "        # print(sub_sub_folder)\n",
    "        sub_sub_folder_list = [x for x in os.listdir(sub_sub_folder) if os.path.isdir(os.path.join(sub_sub_folder, x)) ]\n",
    "        for  sub_sub_folder_ID in range(len(sub_sub_folder_list)):\n",
    "            sub_sub_sub_folder =  os.path.join(sub_sub_folder, sub_sub_folder_list[sub_sub_folder_ID])\n",
    "            # print(sub_sub_sub_folder)\n",
    "            sub_sub_sub_folder_list = [x for x in os.listdir(sub_sub_sub_folder) if os.path.isdir(os.path.join(sub_sub_sub_folder, x)) and ('GUV' in x) ]\n",
    "            for  sub_sub_sub_folder_ID in range(len(sub_sub_sub_folder_list)):\n",
    "                sub_sub_sub_sub_folder =  os.path.join(sub_sub_sub_folder, sub_sub_sub_folder_list[sub_sub_sub_folder_ID])\n",
    "                # print(sub_sub_sub_sub_folder)\n",
    "                sub_sub_sub_filename_list = [x for x in os.listdir(sub_sub_sub_sub_folder) if os.path.isfile(os.path.join(sub_sub_sub_sub_folder, x)) and ('.TIF' in x) ]\n",
    "                for  sub_sub_sub_filename_ID in range(len(sub_sub_sub_filename_list)):\n",
    "                    filename =  sub_sub_sub_filename_list[sub_sub_sub_filename_ID]\n",
    "                    file_path = os.path.join(sub_sub_sub_sub_folder, sub_sub_sub_filename_list[sub_sub_sub_filename_ID])\n",
    "                    # print(file_path)                    \n",
    "                    s = pd.DataFrame([[sub_sub_sub_sub_folder, filename, sub_folder_list[sub_folder_ID],sub_sub_folder_list[sub_sub_folder_ID]]],columns=['folder_path','file_name','condition','date'])\n",
    "                    df = pd.concat([df, s], ignore_index=True)\n",
    "                    "
   ]
  },
  {
   "cell_type": "code",
   "execution_count": 6,
   "metadata": {},
   "outputs": [
    {
     "data": {
      "text/html": [
       "<div>\n",
       "<style scoped>\n",
       "    .dataframe tbody tr th:only-of-type {\n",
       "        vertical-align: middle;\n",
       "    }\n",
       "\n",
       "    .dataframe tbody tr th {\n",
       "        vertical-align: top;\n",
       "    }\n",
       "\n",
       "    .dataframe thead th {\n",
       "        text-align: right;\n",
       "    }\n",
       "</style>\n",
       "<table border=\"1\" class=\"dataframe\">\n",
       "  <thead>\n",
       "    <tr style=\"text-align: right;\">\n",
       "      <th></th>\n",
       "      <th>folder_path</th>\n",
       "      <th>file_name</th>\n",
       "      <th>condition</th>\n",
       "      <th>date</th>\n",
       "    </tr>\n",
       "  </thead>\n",
       "  <tbody>\n",
       "    <tr>\n",
       "      <th>0</th>\n",
       "      <td>/mnt/d/lding/CLS/mousumiLiuDinner/raw_data/Mic...</td>\n",
       "      <td>Image10_GUV.TIF</td>\n",
       "      <td>1_10 Tau_Tubulin</td>\n",
       "      <td>Date 1</td>\n",
       "    </tr>\n",
       "    <tr>\n",
       "      <th>1</th>\n",
       "      <td>/mnt/d/lding/CLS/mousumiLiuDinner/raw_data/Mic...</td>\n",
       "      <td>Image1_GUV.TIF</td>\n",
       "      <td>1_10 Tau_Tubulin</td>\n",
       "      <td>Date 1</td>\n",
       "    </tr>\n",
       "    <tr>\n",
       "      <th>2</th>\n",
       "      <td>/mnt/d/lding/CLS/mousumiLiuDinner/raw_data/Mic...</td>\n",
       "      <td>Image2_GUV.TIF</td>\n",
       "      <td>1_10 Tau_Tubulin</td>\n",
       "      <td>Date 1</td>\n",
       "    </tr>\n",
       "    <tr>\n",
       "      <th>3</th>\n",
       "      <td>/mnt/d/lding/CLS/mousumiLiuDinner/raw_data/Mic...</td>\n",
       "      <td>Image3_GUV.TIF</td>\n",
       "      <td>1_10 Tau_Tubulin</td>\n",
       "      <td>Date 1</td>\n",
       "    </tr>\n",
       "    <tr>\n",
       "      <th>4</th>\n",
       "      <td>/mnt/d/lding/CLS/mousumiLiuDinner/raw_data/Mic...</td>\n",
       "      <td>Image4_GUV.TIF</td>\n",
       "      <td>1_10 Tau_Tubulin</td>\n",
       "      <td>Date 1</td>\n",
       "    </tr>\n",
       "    <tr>\n",
       "      <th>...</th>\n",
       "      <td>...</td>\n",
       "      <td>...</td>\n",
       "      <td>...</td>\n",
       "      <td>...</td>\n",
       "    </tr>\n",
       "    <tr>\n",
       "      <th>383</th>\n",
       "      <td>/mnt/d/lding/CLS/mousumiLiuDinner/raw_data/Mic...</td>\n",
       "      <td>2 uM tau mt encap guv88_w1561.TIF</td>\n",
       "      <td>3_10 Tau_Tubulin</td>\n",
       "      <td>Date 5</td>\n",
       "    </tr>\n",
       "    <tr>\n",
       "      <th>384</th>\n",
       "      <td>/mnt/d/lding/CLS/mousumiLiuDinner/raw_data/Mic...</td>\n",
       "      <td>2 uM tau mt encap guv89_w1561.TIF</td>\n",
       "      <td>3_10 Tau_Tubulin</td>\n",
       "      <td>Date 5</td>\n",
       "    </tr>\n",
       "    <tr>\n",
       "      <th>385</th>\n",
       "      <td>/mnt/d/lding/CLS/mousumiLiuDinner/raw_data/Mic...</td>\n",
       "      <td>2 uM tau mt encap guv91_w1561.TIF</td>\n",
       "      <td>3_10 Tau_Tubulin</td>\n",
       "      <td>Date 5</td>\n",
       "    </tr>\n",
       "    <tr>\n",
       "      <th>386</th>\n",
       "      <td>/mnt/d/lding/CLS/mousumiLiuDinner/raw_data/Mic...</td>\n",
       "      <td>2 uM tau mt encap guv94_w1561.TIF</td>\n",
       "      <td>3_10 Tau_Tubulin</td>\n",
       "      <td>Date 5</td>\n",
       "    </tr>\n",
       "    <tr>\n",
       "      <th>387</th>\n",
       "      <td>/mnt/d/lding/CLS/mousumiLiuDinner/raw_data/Mic...</td>\n",
       "      <td>2 uM tau mt encap guv98_w1561.TIF</td>\n",
       "      <td>3_10 Tau_Tubulin</td>\n",
       "      <td>Date 5</td>\n",
       "    </tr>\n",
       "  </tbody>\n",
       "</table>\n",
       "<p>388 rows × 4 columns</p>\n",
       "</div>"
      ],
      "text/plain": [
       "                                           folder_path  \\\n",
       "0    /mnt/d/lding/CLS/mousumiLiuDinner/raw_data/Mic...   \n",
       "1    /mnt/d/lding/CLS/mousumiLiuDinner/raw_data/Mic...   \n",
       "2    /mnt/d/lding/CLS/mousumiLiuDinner/raw_data/Mic...   \n",
       "3    /mnt/d/lding/CLS/mousumiLiuDinner/raw_data/Mic...   \n",
       "4    /mnt/d/lding/CLS/mousumiLiuDinner/raw_data/Mic...   \n",
       "..                                                 ...   \n",
       "383  /mnt/d/lding/CLS/mousumiLiuDinner/raw_data/Mic...   \n",
       "384  /mnt/d/lding/CLS/mousumiLiuDinner/raw_data/Mic...   \n",
       "385  /mnt/d/lding/CLS/mousumiLiuDinner/raw_data/Mic...   \n",
       "386  /mnt/d/lding/CLS/mousumiLiuDinner/raw_data/Mic...   \n",
       "387  /mnt/d/lding/CLS/mousumiLiuDinner/raw_data/Mic...   \n",
       "\n",
       "                             file_name         condition    date  \n",
       "0                      Image10_GUV.TIF  1_10 Tau_Tubulin  Date 1  \n",
       "1                       Image1_GUV.TIF  1_10 Tau_Tubulin  Date 1  \n",
       "2                       Image2_GUV.TIF  1_10 Tau_Tubulin  Date 1  \n",
       "3                       Image3_GUV.TIF  1_10 Tau_Tubulin  Date 1  \n",
       "4                       Image4_GUV.TIF  1_10 Tau_Tubulin  Date 1  \n",
       "..                                 ...               ...     ...  \n",
       "383  2 uM tau mt encap guv88_w1561.TIF  3_10 Tau_Tubulin  Date 5  \n",
       "384  2 uM tau mt encap guv89_w1561.TIF  3_10 Tau_Tubulin  Date 5  \n",
       "385  2 uM tau mt encap guv91_w1561.TIF  3_10 Tau_Tubulin  Date 5  \n",
       "386  2 uM tau mt encap guv94_w1561.TIF  3_10 Tau_Tubulin  Date 5  \n",
       "387  2 uM tau mt encap guv98_w1561.TIF  3_10 Tau_Tubulin  Date 5  \n",
       "\n",
       "[388 rows x 4 columns]"
      ]
     },
     "execution_count": 6,
     "metadata": {},
     "output_type": "execute_result"
    }
   ],
   "source": [
    "df"
   ]
  },
  {
   "cell_type": "markdown",
   "metadata": {},
   "source": [
    "### Segmentation with Stardist pretrained models\n"
   ]
  },
  {
   "cell_type": "code",
   "execution_count": 7,
   "metadata": {},
   "outputs": [
    {
     "name": "stdout",
     "output_type": "stream",
     "text": [
      "Found model '2D_versatile_fluo' for 'StarDist2D'.\n",
      "Loading network weights from 'weights_best.h5'.\n",
      "Loading thresholds from 'thresholds.json'.\n",
      "Using default values: prob_thresh=0.479071, nms_thresh=0.3.\n"
     ]
    },
    {
     "name": "stderr",
     "output_type": "stream",
     "text": [
      "2025-02-18 14:14:55.413126: I tensorflow/compiler/xla/stream_executor/cuda/cuda_gpu_executor.cc:981] could not open file to read NUMA node: /sys/bus/pci/devices/0000:01:00.0/numa_node\n",
      "Your kernel may have been built without NUMA support.\n",
      "2025-02-18 14:14:55.458385: W tensorflow/core/common_runtime/gpu/gpu_device.cc:1960] Cannot dlopen some GPU libraries. Please make sure the missing libraries mentioned above are installed properly if you would like to use GPU. Follow the guide at https://www.tensorflow.org/install/gpu for how to download and setup the required libraries for your platform.\n",
      "Skipping registering GPU devices...\n"
     ]
    }
   ],
   "source": [
    "# Load pre-trained model named \"2D_demo\"\n",
    "model = StarDist2D.from_pretrained('2D_versatile_fluo')"
   ]
  },
  {
   "cell_type": "code",
   "execution_count": 8,
   "metadata": {},
   "outputs": [],
   "source": [
    "from skimage.measure import label, regionprops, regionprops_table\n",
    "from matplotlib import cm"
   ]
  },
  {
   "cell_type": "code",
   "execution_count": 9,
   "metadata": {},
   "outputs": [
    {
     "name": "stderr",
     "output_type": "stream",
     "text": [
      "547183490.py (2): The get_cmap function was deprecated in Matplotlib 3.7 and will be removed two minor releases later. Use ``matplotlib.colormaps[name]`` or ``matplotlib.colormaps.get_cmap(obj)`` instead.\n",
      "547183490.py (7): The get_cmap function was deprecated in Matplotlib 3.7 and will be removed two minor releases later. Use ``matplotlib.colormaps[name]`` or ``matplotlib.colormaps.get_cmap(obj)`` instead.\n"
     ]
    }
   ],
   "source": [
    "# build the colormap with iterative tab10\n",
    "tab10 = cm.get_cmap('tab10', 10)\n",
    "for i in range(10):\n",
    "    tab10.colors = np.concatenate([tab10.colors,tab10.colors],axis=0)    \n",
    "tab10.colors = np.concatenate([np.zeros([1,4]),tab10.colors],axis=0)\n",
    "\n",
    "newmap = cm.get_cmap('tab10', 200+1)\n",
    "newmap.colors = tab10.colors[0:200+1,:]\n",
    "newmap.colors[0,:]  = np.zeros([1,4])\n",
    "newmap.colors[0,3] = 1"
   ]
  },
  {
   "cell_type": "code",
   "execution_count": 10,
   "metadata": {},
   "outputs": [],
   "source": [
    "number_img = len(df)\n",
    "img_all = np.zeros([number_img,512,512])\n",
    "for row_ID in range(number_img): \n",
    "    file_path = os.path.join(df.iloc[row_ID]['folder_path'],df.iloc[row_ID]['file_name'])\n",
    "    # print(file_path)\n",
    "    img = imread(file_path)\n",
    "    if img.ndim ==3:\n",
    "        img = img.max(axis=0).squeeze()\n",
    "    img_all[row_ID,0:img.shape[0],0:img.shape[1]] = img"
   ]
  },
  {
   "cell_type": "code",
   "execution_count": 11,
   "metadata": {},
   "outputs": [],
   "source": [
    "img_all[img_all==0] = np.nan"
   ]
  },
  {
   "cell_type": "code",
   "execution_count": 12,
   "metadata": {},
   "outputs": [],
   "source": [
    "bg_img = np.nanmedian(img_all, axis=0)\n"
   ]
  },
  {
   "cell_type": "code",
   "execution_count": 16,
   "metadata": {},
   "outputs": [],
   "source": [
    "bg_int = np.nanmedian(bg_img.ravel())"
   ]
  },
  {
   "cell_type": "code",
   "execution_count": 17,
   "metadata": {},
   "outputs": [
    {
     "data": {
      "text/plain": [
       "155.5"
      ]
     },
     "execution_count": 17,
     "metadata": {},
     "output_type": "execute_result"
    }
   ],
   "source": [
    "bg_int"
   ]
  },
  {
   "cell_type": "code",
   "execution_count": 14,
   "metadata": {},
   "outputs": [],
   "source": [
    "bg_int = 122"
   ]
  },
  {
   "cell_type": "code",
   "execution_count": 15,
   "metadata": {},
   "outputs": [],
   "source": [
    "img_all = np.nan_to_num(img_all, nan=122)"
   ]
  },
  {
   "cell_type": "code",
   "execution_count": 18,
   "metadata": {},
   "outputs": [],
   "source": [
    "pad_img_all = np.zeros([number_img,512+128,512+128]) + bg_int\n",
    "img_no_bg = np.zeros([number_img,512,512])\n",
    "\n",
    "\n",
    "for i in range(number_img):\n",
    "\n",
    "    file_name = df.iloc[i]['file_name']\n",
    "    condition = df.iloc[i]['condition']\n",
    "    date = df.iloc[i]['date']\n",
    "\n",
    "    fig, ax = plt.subplots(1, 4, figsize=(12, 4))\n",
    "    fig.suptitle(condition+', '+date+', '+file_name)\n",
    "    ax[0].imshow(bg_img,cmap='gray',vmin=80,vmax=500)\n",
    "    ax[0].axis('off')\n",
    "    ax[0].set_title('bg')\n",
    "    ax[1].imshow(img_all[i,:,:],cmap='gray',vmin=80,vmax=500)\n",
    "    ax[1].axis('off')\n",
    "    ax[1].set_title('org')\n",
    "    img_no_bg[i,:,:]  = img_all[i,:,:] - bg_img + bg_int\n",
    "    ax[2].imshow(img_no_bg[i,:,:],cmap='gray',vmin=80,vmax=500)\n",
    "    ax[2].axis('off')\n",
    "    ax[2].set_title('bg rm')\n",
    "    pad_img_all[i,64:64+512,64:64+512] = img_no_bg[i,:,:]\n",
    "    ax[3].imshow(pad_img_all[i,:,:],cmap='gray',vmin=80,vmax=500)\n",
    "    ax[3].axis('off')\n",
    "    ax[3].set_title('pd')\n",
    "    fig.savefig(processed_folder+'pre-processed-'+ str(i).zfill(2) +'.jpg')\n",
    "    plt.close(fig)\n"
   ]
  },
  {
   "cell_type": "code",
   "execution_count": 19,
   "metadata": {},
   "outputs": [
    {
     "data": {
      "text/plain": [
       "<matplotlib.image.AxesImage at 0x7f1aac20d550>"
      ]
     },
     "execution_count": 19,
     "metadata": {},
     "output_type": "execute_result"
    },
    {
     "data": {
      "image/png": "[encoded data removed]",
      "text/plain": [
       "<Figure size 640x480 with 1 Axes>"
      ]
     },
     "metadata": {},
     "output_type": "display_data"
    }
   ],
   "source": [
    "plt.imshow(bg_img)"
   ]
  },
  {
   "cell_type": "code",
   "execution_count": 20,
   "metadata": {},
   "outputs": [],
   "source": [
    "stardist_display_folder =  processed_folder + 'GUV_obj_detect_filter_48'\n",
    "obj_crop_panel_folder = processed_folder + 'GUV_obj_panel_48'\n",
    "tiff_folder= processed_folder + 'GUV_obj_tiff_48'\n",
    "png_folder= processed_folder + 'GUV_obj_png_48'  \n",
    "\n",
    "if not os.path.isdir(stardist_display_folder):   os.makedirs(stardist_display_folder)\n",
    "if not os.path.isdir(obj_crop_panel_folder):   os.makedirs(obj_crop_panel_folder)\n",
    "if not os.path.isdir(tiff_folder):   os.makedirs(tiff_folder)\n",
    "if not os.path.isdir(png_folder):   os.makedirs(png_folder)\n"
   ]
  },
  {
   "cell_type": "code",
   "execution_count": 21,
   "metadata": {},
   "outputs": [
    {
     "name": "stderr",
     "output_type": "stream",
     "text": [
      "2366728522.py (131): <tifffile.imsave> is deprecated. Use tifffile.imwrite\n"
     ]
    }
   ],
   "source": [
    "cell_cropped_array =np.zeros([3000,96,96])\n",
    "cell_cropped_cellalone_array =np.zeros([3000,96,96])\n",
    "cell_ind=0\n",
    "\n",
    "\n",
    "from skimage import filters\n",
    "\n",
    "\n",
    "sigma = 1\n",
    "\n",
    "cell_index = 0\n",
    "cell_df = pd.DataFrame(columns=['folder_path','file_name','condition','date','cell_index','cx','cy','diameter','bbox_1','bbox_2','bbox_3','bbox_4','obj_folder','obj_filename'])\n",
    "\n",
    "for row_ID in range(df.shape[0]): \n",
    "# for row_ID in range(20): \n",
    "    file_path = os.path.join(df.iloc[row_ID]['folder_path'],df.iloc[row_ID]['file_name'])    \n",
    "    file_name = df.iloc[row_ID]['file_name']\n",
    "    condition = df.iloc[row_ID]['condition']\n",
    "    date = df.iloc[row_ID]['date']\n",
    "    folder_path = df.iloc[row_ID]['folder_path']\n",
    "    \n",
    "    img = img_all[row_ID,:,:]\n",
    "    # img = imread(file_path)\n",
    "    # img = np.sqrt(img)\n",
    "    smooth = filters.gaussian(img, sigma)\n",
    "    img_normed = normalize(smooth,1,99)\n",
    "    \n",
    "    img_pad = pad_img_all[row_ID,:,:]\n",
    "    labels, details = model.predict_instances(img_normed[::4,::4])\n",
    "    \n",
    "\n",
    "    us_manual = np.zeros([256,256])\n",
    "    us_manual[::2,::2]=labels\n",
    "    us_manual[1::2,::2]=labels\n",
    "    us_manual[::2,1::2]=labels\n",
    "    us_manual[1::2,1::2]=labels\n",
    "\n",
    "    us_manual_512 = np.zeros([512,512])\n",
    "    us_manual_512[::2,::2]=us_manual\n",
    "    us_manual_512[1::2,::2]=us_manual\n",
    "    us_manual_512[::2,1::2]=us_manual\n",
    "    us_manual_512[1::2,1::2]=us_manual\n",
    "\n",
    "    labels = us_manual_512.astype(int)\n",
    "\n",
    "    fig, ax = plt.subplots(1, 3, figsize=(12, 4))\n",
    "    fig.suptitle(condition+', '+date+', '+file_name)\n",
    "    ax[0].imshow(img_normed, clim=(0,1), cmap='gray')    \n",
    "    ax[0].axis('off')\n",
    "    ax[0].set_title('img')\n",
    "    ax[1].imshow(img_normed, clim=(0,1), cmap='gray')\n",
    "    ax[1].imshow(labels, cmap=newmap, alpha=0.7,interpolation='None',vmax = 201,vmin = 0)\n",
    "    ax[1].axis('off')\n",
    "    ax[0].set_title('stardist')\n",
    "\n",
    "    regionprops_pax = regionprops(labels,intensity_image=img)\n",
    "    for region_i in range(0,labels.max()):\n",
    "        # print([regionprops_pax[region_i]['Area'],regionprops_pax[region_i]['Eccentricity']])\n",
    "        if(regionprops_pax[region_i]['Eccentricity']>0.6):\n",
    "            labels[labels==region_i+1] =0\n",
    "        if(regionprops_pax[region_i]['Area']<600):\n",
    "            labels[labels==region_i+1] =0\n",
    "        if(regionprops_pax[region_i]['Area']>30000):\n",
    "            labels[labels==region_i+1] =0\n",
    "\n",
    "    \n",
    "    ax[2].imshow(img_normed, clim=(0,1), cmap='gray')\n",
    "    ax[2].imshow(labels, cmap=newmap, alpha=0.7,interpolation='None',vmax = 201,vmin = 0)\n",
    "    ax[2].axis('off')\n",
    "    ax[2].set_title('filtered')\n",
    "\n",
    "    fig.savefig(os.path.join(stardist_display_folder, condition+'-'+date+'-'+file_name+'_stardist_filter.png'))\n",
    "    plt.close(fig)\n",
    "\n",
    "\n",
    "    labels_pad = np.zeros_like(img_pad)\n",
    "    labels_pad[64:64+512,64:64+512] = labels\n",
    "    \n",
    "    label_refined_pad = label(labels_pad>0)\n",
    "    regionprops_refined = regionprops(label_refined_pad,intensity_image=img_pad)\n",
    "    \n",
    "    if len(regionprops_refined) == 0:\n",
    "        continue\n",
    "    else:\n",
    "        fig2, ax2 = plt.subplots(1, len(regionprops_refined), figsize=(12, 4))\n",
    "\n",
    "    fig2.suptitle(condition+', '+date+', '+file_name)\n",
    "    for obj_i in range(len(regionprops_refined)):\n",
    "        Centroid = regionprops_refined[obj_i]['Centroid']\n",
    "        BBox = regionprops_refined[obj_i]['bbox']\n",
    "        Diameter = regionprops_refined[obj_i]['equivalent_diameter_area']\n",
    "        cell_ID = regionprops_refined[obj_i]['label']\n",
    "        \n",
    "        cx = round(Centroid[0])\n",
    "        cy = round(Centroid[1])\n",
    "        crop_img = img_pad[cx-48:cx+48,cy-48:cy+48]\n",
    "        crop_label = (label_refined_pad[cx-48:cx+48,cy-48:cy+48]).copy().astype(float)\n",
    "\n",
    "        crop_img_cellalone = np.zeros_like(crop_img)+bg_int-40\n",
    "\n",
    "\n",
    "        mask = crop_label==cell_ID\n",
    "        mask_smooth = filters.gaussian(mask.astype(float), sigma)\n",
    "        mask_smooth_bw = mask_smooth>0.1\n",
    "\n",
    "        crop_img_cellalone[mask_smooth_bw>0] = crop_img[mask_smooth_bw>0]\n",
    "        crop_img_cellalone[crop_img_cellalone<40]=40\n",
    "        cell_cropped_array[cell_ind,:,:] = crop_img\n",
    "        cell_cropped_cellalone_array[cell_ind,:,:]=crop_img_cellalone\n",
    "        cell_ind = cell_ind+1\n",
    "\n",
    "        if len(regionprops_refined) == 1:\n",
    "            ax2.imshow(crop_img_cellalone,cmap='gray',vmin=80,vmax=500)\n",
    "            ax2.axis('off')\n",
    "            ax2.set_title('obj '+str(obj_i).zfill(2))\n",
    "        else:\n",
    "            ax2[obj_i].imshow(crop_img_cellalone,cmap='gray',vmin=80,vmax=500)\n",
    "            ax2[obj_i].axis('off')\n",
    "            ax2[obj_i].set_title('obj '+str(obj_i).zfill(2))\n",
    "\n",
    "\n",
    "        cell_index = cell_index + 1\n",
    "        \n",
    "        # obj_filename = condition+'-'+date+'-'+ file_name + '_obj_'+str(obj_i).zfill(2)+'.png'\n",
    "        # tifffile.imsave(os.path.join(png_folder, obj_filename),crop_img.astype(np.float16))  \n",
    "        \n",
    "        # obj_filename = condition+'-'+date+'-'+ file_name + '_obj_'+str(obj_i).zfill(2)+'.tif'\n",
    "        # tifffile.imwrite(os.path.join(tiff_folder, obj_filename),crop_img.astype(np.float16))  \n",
    "\n",
    "        obj_filename = condition+'-'+date+'-'+ file_name + '_obj_'+str(obj_i).zfill(2)+'_cellalone.png'\n",
    "        tifffile.imsave(os.path.join(png_folder, obj_filename),crop_img_cellalone.astype(np.uint16))  \n",
    "        \n",
    "        obj_filename = condition+'-'+date+'-'+ file_name + '_obj_'+str(obj_i).zfill(2)+'_cellalone.tif'\n",
    "        tifffile.imwrite(os.path.join(tiff_folder, obj_filename),crop_img_cellalone.astype(np.uint16))  \n",
    "        \n",
    "        \n",
    "        s = pd.DataFrame([[folder_path, file_name, condition,date,cell_index,Centroid[0],Centroid[1],Diameter,BBox[0],BBox[1],BBox[2],BBox[3],tiff_folder,obj_filename]],\n",
    "                         columns=['folder_path','file_name','condition','date','cell_index','cx','cy','diameter','bbox_1','bbox_2','bbox_3','bbox_4','obj_folder','obj_filename'])\n",
    "        \n",
    "        cell_df = pd.concat([cell_df, s], ignore_index=True)\n",
    "\n",
    "    fig2.savefig(os.path.join(obj_crop_panel_folder, condition+'-'+date+'-'+file_name+'_obj_crop_panel.png'))\n",
    "    \n",
    "    plt.close(fig2)\n",
    "\n",
    "tifffile.imwrite(os.path.join(tiff_folder, 'all_cell_cropped_array.tiff'),cell_cropped_array.astype(np.float16))  \n"
   ]
  },
  {
   "cell_type": "code",
   "execution_count": 21,
   "metadata": {},
   "outputs": [
    {
     "data": {
      "text/plain": [
       "82"
      ]
     },
     "execution_count": 21,
     "metadata": {},
     "output_type": "execute_result"
    }
   ],
   "source": [
    "bg_int-40"
   ]
  },
  {
   "cell_type": "code",
   "execution_count": 160,
   "metadata": {},
   "outputs": [
    {
     "data": {
      "text/plain": [
       "'1_10 Tau_Tubulin-Date 4-1 uM tau + mt encap GUV35_w2640.TIF_obj_08_cellalone.tif'"
      ]
     },
     "execution_count": 160,
     "metadata": {},
     "output_type": "execute_result"
    }
   ],
   "source": [
    "cell_df.iloc[199].obj_filename\n"
   ]
  },
  {
   "cell_type": "code",
   "execution_count": 147,
   "metadata": {},
   "outputs": [
    {
     "data": {
      "text/plain": [
       "122"
      ]
     },
     "execution_count": 147,
     "metadata": {},
     "output_type": "execute_result"
    }
   ],
   "source": [
    "bg_int"
   ]
  },
  {
   "cell_type": "code",
   "execution_count": null,
   "metadata": {},
   "outputs": [],
   "source": []
  },
  {
   "cell_type": "code",
   "execution_count": 132,
   "metadata": {},
   "outputs": [
    {
     "data": {
      "text/plain": [
       "'Image10_MT.TIF'"
      ]
     },
     "execution_count": 132,
     "metadata": {},
     "output_type": "execute_result"
    }
   ],
   "source": [
    "file_name"
   ]
  },
  {
   "cell_type": "code",
   "execution_count": 112,
   "metadata": {},
   "outputs": [
    {
     "data": {
      "text/plain": [
       "(640, 640)"
      ]
     },
     "execution_count": 112,
     "metadata": {},
     "output_type": "execute_result"
    }
   ],
   "source": [
    "img_pad.shape"
   ]
  },
  {
   "cell_type": "code",
   "execution_count": 137,
   "metadata": {},
   "outputs": [
    {
     "data": {
      "text/plain": [
       "<matplotlib.image.AxesImage at 0x7f650e2b0880>"
      ]
     },
     "execution_count": 137,
     "metadata": {},
     "output_type": "execute_result"
    },
    {
     "data": {
      "image/png": "[encoded data removed]",
      "text/plain": [
       "<Figure size 640x480 with 1 Axes>"
      ]
     },
     "metadata": {},
     "output_type": "display_data"
    }
   ],
   "source": [
    "plt.imshow(img_pad,vmin=0,vmax=500,cmap='gray')"
   ]
  },
  {
   "cell_type": "code",
   "execution_count": 108,
   "metadata": {},
   "outputs": [
    {
     "data": {
      "text/plain": [
       "62.45963468567951"
      ]
     },
     "execution_count": 108,
     "metadata": {},
     "output_type": "execute_result"
    }
   ],
   "source": [
    "Diameter"
   ]
  },
  {
   "cell_type": "code",
   "execution_count": 107,
   "metadata": {},
   "outputs": [
    {
     "data": {
      "text/plain": [
       "(133.15535248041775, 542.3328981723238)"
      ]
     },
     "execution_count": 107,
     "metadata": {},
     "output_type": "execute_result"
    }
   ],
   "source": [
    "Centroid"
   ]
  },
  {
   "cell_type": "code",
   "execution_count": 106,
   "metadata": {},
   "outputs": [
    {
     "data": {
      "text/plain": [
       "<matplotlib.image.AxesImage at 0x7f6578f5db80>"
      ]
     },
     "execution_count": 106,
     "metadata": {},
     "output_type": "execute_result"
    },
    {
     "data": {
      "image/png": "[encoded data removed]",
      "text/plain": [
       "<Figure size 640x480 with 1 Axes>"
      ]
     },
     "metadata": {},
     "output_type": "display_data"
    }
   ],
   "source": [
    "plt.imshow(label_refined_pad)"
   ]
  },
  {
   "cell_type": "code",
   "execution_count": 105,
   "metadata": {},
   "outputs": [
    {
     "data": {
      "text/plain": [
       "(512, 512)"
      ]
     },
     "execution_count": 105,
     "metadata": {},
     "output_type": "execute_result"
    }
   ],
   "source": [
    "img.shape"
   ]
  },
  {
   "cell_type": "code",
   "execution_count": 104,
   "metadata": {},
   "outputs": [
    {
     "data": {
      "text/plain": [
       "606"
      ]
     },
     "execution_count": 104,
     "metadata": {},
     "output_type": "execute_result"
    }
   ],
   "source": [
    "cy"
   ]
  },
  {
   "cell_type": "code",
   "execution_count": 100,
   "metadata": {},
   "outputs": [
    {
     "data": {
      "text/plain": [
       "(512, 512)"
      ]
     },
     "execution_count": 100,
     "metadata": {},
     "output_type": "execute_result"
    }
   ],
   "source": [
    "label_refined.shape"
   ]
  },
  {
   "cell_type": "code",
   "execution_count": 94,
   "metadata": {},
   "outputs": [
    {
     "data": {
      "text/plain": [
       "(640, 640)"
      ]
     },
     "execution_count": 94,
     "metadata": {},
     "output_type": "execute_result"
    }
   ],
   "source": [
    "img_pad.shape"
   ]
  },
  {
   "cell_type": "code",
   "execution_count": 93,
   "metadata": {},
   "outputs": [
    {
     "data": {
      "text/plain": [
       "(512, 512)"
      ]
     },
     "execution_count": 93,
     "metadata": {},
     "output_type": "execute_result"
    }
   ],
   "source": [
    "us_manual.shape"
   ]
  },
  {
   "cell_type": "code",
   "execution_count": 92,
   "metadata": {},
   "outputs": [
    {
     "data": {
      "text/plain": [
       "(512, 512)"
      ]
     },
     "execution_count": 92,
     "metadata": {},
     "output_type": "execute_result"
    }
   ],
   "source": [
    "labels.shape"
   ]
  },
  {
   "cell_type": "code",
   "execution_count": 90,
   "metadata": {},
   "outputs": [
    {
     "data": {
      "text/plain": [
       "(96, 96)"
      ]
     },
     "execution_count": 90,
     "metadata": {},
     "output_type": "execute_result"
    }
   ],
   "source": [
    "crop_img_cellalone.shape"
   ]
  },
  {
   "cell_type": "code",
   "execution_count": 85,
   "metadata": {},
   "outputs": [
    {
     "data": {
      "text/plain": [
       "3"
      ]
     },
     "execution_count": 85,
     "metadata": {},
     "output_type": "execute_result"
    }
   ],
   "source": [
    "label_refined.max()"
   ]
  },
  {
   "cell_type": "code",
   "execution_count": 91,
   "metadata": {},
   "outputs": [
    {
     "data": {
      "text/plain": [
       "(96, 40)"
      ]
     },
     "execution_count": 91,
     "metadata": {},
     "output_type": "execute_result"
    }
   ],
   "source": [
    "crop_label.shape"
   ]
  },
  {
   "cell_type": "code",
   "execution_count": 61,
   "metadata": {},
   "outputs": [],
   "source": [
    "crop_img_norm = crop_img -90\n",
    "crop_img_norm = crop_img_norm*2\n",
    "from PIL import Image\n",
    "image = Image.fromarray(crop_img_norm)\n",
    "grayscale_image = image.convert(\"L\")\n",
    "# Save the image in a different format\n",
    "grayscale_image.save(\"/mnt/d/lding/CLS/mousumiLiuDinner/test.png\")"
   ]
  },
  {
   "cell_type": "code",
   "execution_count": 50,
   "metadata": {},
   "outputs": [
    {
     "data": {
      "text/plain": [
       "188.0"
      ]
     },
     "execution_count": 50,
     "metadata": {},
     "output_type": "execute_result"
    }
   ],
   "source": [
    "crop_img.max()"
   ]
  },
  {
   "cell_type": "code",
   "execution_count": 59,
   "metadata": {},
   "outputs": [
    {
     "data": {
      "text/plain": [
       "107.0"
      ]
     },
     "execution_count": 59,
     "metadata": {},
     "output_type": "execute_result"
    }
   ],
   "source": [
    "crop_img.min()"
   ]
  },
  {
   "cell_type": "code",
   "execution_count": 42,
   "metadata": {},
   "outputs": [],
   "source": [
    "labels, details = model.predict_instances(img_normed[::2,::2])\n",
    "    \n",
    "\n",
    "us_manual = np.zeros([512,512])\n",
    "us_manual[::2,::2]=labels\n",
    "us_manual[1::2,::2]=labels\n",
    "us_manual[::2,1::2]=labels\n",
    "us_manual[1::2,1::2]=labels\n",
    "\n",
    "labels = us_manual"
   ]
  },
  {
   "cell_type": "code",
   "execution_count": 38,
   "metadata": {},
   "outputs": [],
   "source": [
    "us_manual = np.zeros([512,512])\n",
    "us_manual[::2,::2]=labels\n",
    "us_manual[1::2,::2]=labels\n",
    "us_manual[::2,1::2]=labels\n",
    "us_manual[1::2,1::2]=labels"
   ]
  },
  {
   "cell_type": "code",
   "execution_count": 43,
   "metadata": {},
   "outputs": [
    {
     "data": {
      "text/plain": [
       "<matplotlib.image.AxesImage at 0x7f388de4dd30>"
      ]
     },
     "execution_count": 43,
     "metadata": {},
     "output_type": "execute_result"
    },
    {
     "data": {
      "image/png": "[encoded data removed]",
      "text/plain": [
       "<Figure size 640x480 with 1 Axes>"
      ]
     },
     "metadata": {},
     "output_type": "display_data"
    }
   ],
   "source": [
    "plt.imshow(labels,interpolation='None')"
   ]
  },
  {
   "cell_type": "code",
   "execution_count": 31,
   "metadata": {},
   "outputs": [
    {
     "data": {
      "text/plain": [
       "<matplotlib.image.AxesImage at 0x7f3861a440d0>"
      ]
     },
     "execution_count": 31,
     "metadata": {},
     "output_type": "execute_result"
    },
    {
     "data": {
      "image/png": "[encoded data removed]",
      "text/plain": [
       "<Figure size 640x480 with 1 Axes>"
      ]
     },
     "metadata": {},
     "output_type": "display_data"
    }
   ],
   "source": [
    "plt.imshow(labels,interpolation='None')"
   ]
  },
  {
   "cell_type": "code",
   "execution_count": 33,
   "metadata": {},
   "outputs": [
    {
     "data": {
      "text/plain": [
       "array([[0, 0, 0, ..., 0, 0, 0],\n",
       "       [0, 0, 0, ..., 0, 0, 0],\n",
       "       [0, 0, 0, ..., 0, 0, 0],\n",
       "       ...,\n",
       "       [0, 0, 0, ..., 0, 0, 0],\n",
       "       [0, 0, 0, ..., 0, 0, 0],\n",
       "       [0, 0, 0, ..., 0, 0, 0]])"
      ]
     },
     "execution_count": 33,
     "metadata": {},
     "output_type": "execute_result"
    }
   ],
   "source": [
    "labels2"
   ]
  },
  {
   "cell_type": "code",
   "execution_count": 79,
   "metadata": {},
   "outputs": [
    {
     "data": {
      "text/plain": [
       "<matplotlib.image.AxesImage at 0x7f43fc66f8e0>"
      ]
     },
     "execution_count": 79,
     "metadata": {},
     "output_type": "execute_result"
    }
   ],
   "source": [
    "ax2.imshow(img)"
   ]
  },
  {
   "cell_type": "code",
   "execution_count": 80,
   "metadata": {},
   "outputs": [
    {
     "data": {
      "text/plain": [
       "1"
      ]
     },
     "execution_count": 80,
     "metadata": {},
     "output_type": "execute_result"
    }
   ],
   "source": [
    "len(regionprops_refined)"
   ]
  },
  {
   "cell_type": "code",
   "execution_count": 72,
   "metadata": {},
   "outputs": [
    {
     "data": {
      "text/plain": [
       "1"
      ]
     },
     "execution_count": 72,
     "metadata": {},
     "output_type": "execute_result"
    }
   ],
   "source": [
    "len(regionprops_refined)"
   ]
  },
  {
   "cell_type": "code",
   "execution_count": 71,
   "metadata": {},
   "outputs": [
    {
     "data": {
      "text/plain": [
       "0"
      ]
     },
     "execution_count": 71,
     "metadata": {},
     "output_type": "execute_result"
    }
   ],
   "source": [
    "obj_i"
   ]
  },
  {
   "cell_type": "code",
   "execution_count": 164,
   "metadata": {},
   "outputs": [],
   "source": [
    "cell_df.to_csv('/mnt/d/lding/CLS/mousumiLiuDinner/raw_data/Microtubule_GUV-Liu-20250106T211105Z-001/cell_df.csv')"
   ]
  },
  {
   "cell_type": "code",
   "execution_count": 168,
   "metadata": {},
   "outputs": [
    {
     "data": {
      "text/plain": [
       "'/mnt/d/lding/CLS/mousumiLiuDinner/raw_data/Microtubule_GUV-Liu-20250106T211105Z-001/processed_MT/obj_tiff_48'"
      ]
     },
     "execution_count": 168,
     "metadata": {},
     "output_type": "execute_result"
    }
   ],
   "source": [
    "cell_df.iloc[100].obj_folder"
   ]
  },
  {
   "cell_type": "code",
   "execution_count": 169,
   "metadata": {},
   "outputs": [
    {
     "data": {
      "text/plain": [
       "'1_10 Tau_Tubulin-Date 3-Image 9_MT.TIF_obj_06_cellalone.tif'"
      ]
     },
     "execution_count": 169,
     "metadata": {},
     "output_type": "execute_result"
    }
   ],
   "source": [
    "cell_df.iloc[100].obj_filename\n"
   ]
  },
  {
   "cell_type": "code",
   "execution_count": 163,
   "metadata": {},
   "outputs": [
    {
     "data": {
      "text/plain": [
       "'/mnt/d/lding/CLS/mousumiLiuDinner/raw_data/Microtubule_GUV-Liu-20250106T211105Z-001/Microtubule_GUV-Liu/3_10 Tau_Tubulin/Date 5/Microtubule'"
      ]
     },
     "execution_count": 163,
     "metadata": {},
     "output_type": "execute_result"
    }
   ],
   "source": [
    "s.folder_path[0]\n"
   ]
  },
  {
   "cell_type": "code",
   "execution_count": 58,
   "metadata": {},
   "outputs": [
    {
     "data": {
      "text/html": [
       "<div>\n",
       "<style scoped>\n",
       "    .dataframe tbody tr th:only-of-type {\n",
       "        vertical-align: middle;\n",
       "    }\n",
       "\n",
       "    .dataframe tbody tr th {\n",
       "        vertical-align: top;\n",
       "    }\n",
       "\n",
       "    .dataframe thead th {\n",
       "        text-align: right;\n",
       "    }\n",
       "</style>\n",
       "<table border=\"1\" class=\"dataframe\">\n",
       "  <thead>\n",
       "    <tr style=\"text-align: right;\">\n",
       "      <th></th>\n",
       "      <th>folder_path</th>\n",
       "      <th>file_name</th>\n",
       "      <th>condition</th>\n",
       "      <th>date</th>\n",
       "    </tr>\n",
       "  </thead>\n",
       "  <tbody>\n",
       "    <tr>\n",
       "      <th>0</th>\n",
       "      <td>/mnt/d/lding/CLS/mousumiLiuDinner/raw_data/3_1...</td>\n",
       "      <td>Image 9_MT.TIF</td>\n",
       "      <td>3_10 Tau_Tubulin</td>\n",
       "      <td>Date 3</td>\n",
       "    </tr>\n",
       "  </tbody>\n",
       "</table>\n",
       "</div>"
      ],
      "text/plain": [
       "                                         folder_path       file_name  \\\n",
       "0  /mnt/d/lding/CLS/mousumiLiuDinner/raw_data/3_1...  Image 9_MT.TIF   \n",
       "\n",
       "          condition    date  \n",
       "0  3_10 Tau_Tubulin  Date 3  "
      ]
     },
     "execution_count": 58,
     "metadata": {},
     "output_type": "execute_result"
    }
   ],
   "source": [
    "s"
   ]
  },
  {
   "cell_type": "code",
   "execution_count": 49,
   "metadata": {},
   "outputs": [
    {
     "data": {
      "text/plain": [
       "'Image6_MT.TIF'"
      ]
     },
     "execution_count": 49,
     "metadata": {},
     "output_type": "execute_result"
    }
   ],
   "source": [
    "file_name"
   ]
  },
  {
   "cell_type": "code",
   "execution_count": 46,
   "metadata": {},
   "outputs": [
    {
     "data": {
      "text/plain": [
       "41.90223540802793"
      ]
     },
     "execution_count": 46,
     "metadata": {},
     "output_type": "execute_result"
    }
   ],
   "source": [
    "\n",
    "regionprops_refined[obj_i].equivalent_diameter_area"
   ]
  },
  {
   "cell_type": "code",
   "execution_count": 47,
   "metadata": {},
   "outputs": [
    {
     "data": {
      "text/plain": [
       "1379.0"
      ]
     },
     "execution_count": 47,
     "metadata": {},
     "output_type": "execute_result"
    }
   ],
   "source": [
    "regionprops_refined[obj_i].area"
   ]
  },
  {
   "cell_type": "code",
   "execution_count": 48,
   "metadata": {},
   "outputs": [
    {
     "data": {
      "text/plain": [
       "1256.6370614359173"
      ]
     },
     "execution_count": 48,
     "metadata": {},
     "output_type": "execute_result"
    }
   ],
   "source": [
    "np.pi*20*20"
   ]
  },
  {
   "cell_type": "code",
   "execution_count": null,
   "metadata": {},
   "outputs": [],
   "source": [
    "plt.imshow(img_pad,cmap='gray',vmin=80,vmax=500)"
   ]
  },
  {
   "cell_type": "code",
   "execution_count": null,
   "metadata": {},
   "outputs": [],
   "source": [
    "img_pad.shape"
   ]
  },
  {
   "cell_type": "code",
   "execution_count": null,
   "metadata": {},
   "outputs": [],
   "source": [
    "pad_img_all_norm[row_ID,:,:].min() "
   ]
  },
  {
   "cell_type": "code",
   "execution_count": 57,
   "metadata": {},
   "outputs": [],
   "source": [
    "label_refined = label(labels>0)\n",
    "regionprops_refined = regionprops(label_refined,intensity_image=img_ds_norm)"
   ]
  },
  {
   "cell_type": "code",
   "execution_count": null,
   "metadata": {},
   "outputs": [],
   "source": [
    "len(regionprops_refined)"
   ]
  },
  {
   "cell_type": "code",
   "execution_count": null,
   "metadata": {},
   "outputs": [],
   "source": [
    "regionprops_pax[0]"
   ]
  },
  {
   "cell_type": "code",
   "execution_count": null,
   "metadata": {},
   "outputs": [],
   "source": []
  },
  {
   "cell_type": "code",
   "execution_count": null,
   "metadata": {},
   "outputs": [],
   "source": [
    "labels.max()"
   ]
  },
  {
   "cell_type": "code",
   "execution_count": null,
   "metadata": {},
   "outputs": [],
   "source": [
    "df.shape"
   ]
  },
  {
   "cell_type": "code",
   "execution_count": null,
   "metadata": {},
   "outputs": [],
   "source": [
    "# display image and overlay labels(segmented cells) in different colors\n",
    "plt.figure(figsize=(4,4))\n",
    "plt.imshow(img if img.ndim==2 else img[...,0], clim=(0,1), cmap='gray')\n",
    "plt.imshow(labels, cmap=lbl_cmap, alpha=0.5)\n",
    "plt.axis('off')"
   ]
  },
  {
   "cell_type": "code",
   "execution_count": 30,
   "metadata": {},
   "outputs": [],
   "source": [
    "# save the segmentation results -- the labels, to a tif file for future evaluation \n",
    "output_dir = 'D:\\lding\\dsi_clinic\\cellsegmentation\\data\\\\tissuenet_v1.1\\\\tissuenet_v1.1_test\\C0_selected_seg_stardist'\n",
    "if not os.path.isdir(output_dir):\n",
    "    os.mkdir(output_dir)\n",
    "\n",
    "imwrite(os.path.join(output_dir, 'testimage_labels.tif'), labels)"
   ]
  },
  {
   "cell_type": "markdown",
   "metadata": {},
   "source": [
    "### Or wrap these into a function to make test more convenient"
   ]
  },
  {
   "cell_type": "code",
   "execution_count": 23,
   "metadata": {},
   "outputs": [],
   "source": [
    "def example(model, i, show_dist=True):\n",
    "    img = normalize(images[i], 1,99.8, axis=[0,1])\n",
    "    labels, details = model.predict_instances(img)\n",
    "\n",
    "    plt.figure(figsize=(7,5))\n",
    "    img_show = img if img.ndim==2 else img[...,0]\n",
    "    coord, points, prob = details['coord'], details['points'], details['prob']\n",
    "    plt.subplot(121); plt.imshow(img_show, cmap='gray'); plt.axis('off')\n",
    "    a = plt.axis()\n",
    "    _draw_polygons(coord, points, prob, show_dist=show_dist)\n",
    "    plt.axis(a)\n",
    "    plt.subplot(122); plt.imshow(img_show, cmap='gray'); plt.axis('off')\n",
    "    plt.imshow(labels, cmap=lbl_cmap, alpha=0.5)\n",
    "    plt.tight_layout()\n",
    "    plt.show()"
   ]
  },
  {
   "cell_type": "code",
   "execution_count": null,
   "metadata": {},
   "outputs": [],
   "source": [
    "# run current model for image number 42\n",
    "example(model, 42)"
   ]
  },
  {
   "cell_type": "code",
   "execution_count": null,
   "metadata": {},
   "outputs": [],
   "source": [
    "# run current model for image number 1 without displaying the boundary distances\n",
    "example(model, 162, False)"
   ]
  },
  {
   "cell_type": "code",
   "execution_count": null,
   "metadata": {},
   "outputs": [],
   "source": [
    "# load another pretrained model \n",
    "model_versatile = StarDist2D.from_pretrained('2D_versatile_fluo')"
   ]
  },
  {
   "cell_type": "code",
   "execution_count": null,
   "metadata": {},
   "outputs": [],
   "source": [
    "# run model '2D_versatile_fluo' for image number 30 without displaying the boundary distances\n",
    "example(model_versatile, 30, False)"
   ]
  }
 ],
 "metadata": {
  "kernelspec": {
   "display_name": "stardist3d",
   "language": "python",
   "name": "python3"
  },
  "language_info": {
   "codemirror_mode": {
    "name": "ipython",
    "version": 3
   },
   "file_extension": ".py",
   "mimetype": "text/x-python",
   "name": "python",
   "nbconvert_exporter": "python",
   "pygments_lexer": "ipython3",
   "version": "3.8.19"
  }
 },
 "nbformat": 4,
 "nbformat_minor": 2
}
