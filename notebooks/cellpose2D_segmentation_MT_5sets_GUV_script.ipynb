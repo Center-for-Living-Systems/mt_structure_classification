{
 "cells": [
  {
   "cell_type": "markdown",
   "metadata": {},
   "source": [
    "This notebook for Stardist applicationis adoptted from https://github.com/stardist/stardist/blob/main/examples/2D/3_prediction.ipynb\n",
    "\n",
    "Students can use this as an initial notebook for more images with specific models and parameters.\n",
    "\n",
    "Liya Ding 2024.10.01"
   ]
  },
  {
   "cell_type": "code",
   "execution_count": 1,
   "metadata": {},
   "outputs": [],
   "source": [
    "import sys\n",
    "import os\n",
    "from glob import glob\n",
    "import numpy as np\n",
    "import matplotlib.pyplot as plt\n",
    "from tifffile import imread, imwrite\n",
    "from csbdeep.utils import normalize\n",
    "from csbdeep.utils import download_and_extract_zip_file\n",
    "import tifffile\n",
    "from skimage.transform import resize\n",
    "\n",
    "from cellpose import models, io\n",
    "\n",
    "\n",
    "import pandas as pd\n",
    "np.random.seed(6)\n"
   ]
  },
  {
   "cell_type": "code",
   "execution_count": 2,
   "metadata": {},
   "outputs": [],
   "source": [
    "import os"
   ]
  },
  {
   "cell_type": "code",
   "execution_count": 3,
   "metadata": {},
   "outputs": [],
   "source": [
    "root_folder = '/mnt/d/lding/CLS/mousumiLiuDinner/raw_data/Microtubule_GUV-Liu-20250106T211105Z-001'\n",
    "\n",
    "folder_list = [x for x in os.listdir(root_folder) if os.path.isdir(os.path.join(root_folder, x)) ]"
   ]
  },
  {
   "cell_type": "code",
   "execution_count": 4,
   "metadata": {},
   "outputs": [],
   "source": [
    "output_folder = '/mnt/d/lding/CLS/mousumiLiuDinner/set1to5_processed_results'\n",
    "processed_folder = output_folder+'/Microtubule_GUV-Liu-20250106T211105Z-001/processed_MT/'\n",
    "\n",
    "if not os.path.isdir(output_folder):   os.makedirs(output_folder)\n",
    "if not os.path.isdir(processed_folder):   os.makedirs(processed_folder)\n"
   ]
  },
  {
   "cell_type": "code",
   "execution_count": 5,
   "metadata": {},
   "outputs": [
    {
     "data": {
      "text/plain": [
       "['Microtubule_GUV-Liu', 'processed_MT']"
      ]
     },
     "execution_count": 5,
     "metadata": {},
     "output_type": "execute_result"
    }
   ],
   "source": [
    "folder_list"
   ]
  },
  {
   "cell_type": "code",
   "execution_count": 6,
   "metadata": {},
   "outputs": [
    {
     "name": "stdout",
     "output_type": "stream",
     "text": [
      "/mnt/d/lding/CLS/mousumiLiuDinner/raw_data/Microtubule_GUV-Liu-20250106T211105Z-001/Microtubule_GUV-Liu/1_10 Tau_Tubulin/Date 3/GUV/Image 4_GUV.TIF\n",
      "/mnt/d/lding/CLS/mousumiLiuDinner/raw_data/Microtubule_GUV-Liu-20250106T211105Z-001/Microtubule_GUV-Liu/1_10 Tau_Tubulin/Date 3/Microtubule/Image 4_GUV.TIF\n",
      "/mnt/d/lding/CLS/mousumiLiuDinner/raw_data/Microtubule_GUV-Liu-20250106T211105Z-001/Microtubule_GUV-Liu/1_10 Tau_Tubulin/Date 5/GUV/1 uM tau mt encap guv53_w1561.TIF\n",
      "/mnt/d/lding/CLS/mousumiLiuDinner/raw_data/Microtubule_GUV-Liu-20250106T211105Z-001/Microtubule_GUV-Liu/1_10 Tau_Tubulin/Date 5/Microtubule/1 uM tau mt encap guv53_w1561.TIF\n",
      "/mnt/d/lding/CLS/mousumiLiuDinner/raw_data/Microtubule_GUV-Liu-20250106T211105Z-001/Microtubule_GUV-Liu/2_10 Tau_Tubulin/Date 4/GUV/IMAGE 31_w2561.TIF\n",
      "/mnt/d/lding/CLS/mousumiLiuDinner/raw_data/Microtubule_GUV-Liu-20250106T211105Z-001/Microtubule_GUV-Liu/2_10 Tau_Tubulin/Date 4/Microtubule/IMAGE 31_w1640.TIF\n"
     ]
    }
   ],
   "source": [
    "df = pd.DataFrame(columns=['GUV_folder_path','GUV_file_name','MT_folder_path','MT_file_name','condition','date'])\n",
    "\n",
    "for  folder_ID in range(len(folder_list)):\n",
    "    sub_folder = os.path.join(root_folder, folder_list[folder_ID])\n",
    "    # print(sub_folder)\n",
    "    sub_folder_list = [x for x in os.listdir(sub_folder) if os.path.isdir(os.path.join(sub_folder, x)) ]\n",
    "    for  sub_folder_ID in range(len(sub_folder_list)):\n",
    "        sub_sub_folder =  os.path.join(sub_folder, sub_folder_list[sub_folder_ID])\n",
    "        # print(sub_sub_folder)\n",
    "        sub_sub_folder_list = [x for x in os.listdir(sub_sub_folder) if os.path.isdir(os.path.join(sub_sub_folder, x)) ]\n",
    "        for  sub_sub_folder_ID in range(len(sub_sub_folder_list)):\n",
    "            sub_sub_sub_folder =  os.path.join(sub_sub_folder, sub_sub_folder_list[sub_sub_folder_ID])\n",
    "            # print(sub_sub_sub_folder)\n",
    "            GUV_sub_sub_sub_folder =  os.path.join(sub_sub_sub_folder, 'GUV')\n",
    "            MT_sub_sub_sub_folder =  os.path.join(sub_sub_sub_folder, 'Microtubule')\n",
    "            \n",
    "            # print(sub_sub_sub_sub_folder)\n",
    "            sub_sub_sub_filename_list = [x for x in os.listdir(GUV_sub_sub_sub_folder) if os.path.isfile(os.path.join(GUV_sub_sub_sub_folder, x)) and ('.TIF' in x) ]\n",
    "            for  sub_sub_sub_filename_ID in range(len(sub_sub_sub_filename_list)):\n",
    "                GUV_filename =  sub_sub_sub_filename_list[sub_sub_sub_filename_ID]\n",
    "\n",
    "\n",
    "                if GUV_filename[-7:] == \"GUV.TIF\":\n",
    "                    MT_filename = GUV_filename.replace(\"GUV.TIF\",\"MT.TIF\")\n",
    "                else:\n",
    "                    MT_filename = GUV_filename.replace(\"_w1561.TIF\",\"_w2640.TIF\")\n",
    "\n",
    "\n",
    "                GUV_file_path = os.path.join(GUV_sub_sub_sub_folder, GUV_filename)\n",
    "                MT_file_path = os.path.join(MT_sub_sub_sub_folder, MT_filename)\n",
    "\n",
    "                if(os.path.isfile(GUV_file_path) and os.path.isfile(MT_file_path)):\n",
    "                ##########################\n",
    "                # Liya check if both path exists                \n",
    "                    # print(file_path)                    \n",
    "                    s = pd.DataFrame([[GUV_sub_sub_sub_folder, GUV_filename,MT_sub_sub_sub_folder, MT_filename, sub_folder_list[sub_folder_ID],sub_sub_folder_list[sub_sub_folder_ID]]],\n",
    "                                    columns=['GUV_folder_path','GUV_file_name','MT_folder_path','MT_file_name','condition','date'])\n",
    "                    df = pd.concat([df, s], ignore_index=True)\n",
    "                else:\n",
    "                    MT_filename = GUV_filename.replace(\"_w2561.TIF\",\"_w1640.TIF\")\n",
    "                    MT_file_path = os.path.join(MT_sub_sub_sub_folder, MT_filename)\n",
    "\n",
    "                    if(os.path.isfile(GUV_file_path) and os.path.isfile(MT_file_path)):\n",
    "                        s = pd.DataFrame([[GUV_sub_sub_sub_folder, GUV_filename,MT_sub_sub_sub_folder, MT_filename, sub_folder_list[sub_folder_ID],sub_sub_folder_list[sub_sub_folder_ID]]],\n",
    "                                    columns=['GUV_folder_path','GUV_file_name','MT_folder_path','MT_file_name','condition','date'])\n",
    "                        df = pd.concat([df, s], ignore_index=True)\n",
    "                    else:\n",
    "                        print(GUV_file_path)\n",
    "                        print(MT_file_path)\n"
   ]
  },
  {
   "cell_type": "code",
   "execution_count": 7,
   "metadata": {},
   "outputs": [
    {
     "data": {
      "text/html": [
       "<div>\n",
       "<style scoped>\n",
       "    .dataframe tbody tr th:only-of-type {\n",
       "        vertical-align: middle;\n",
       "    }\n",
       "\n",
       "    .dataframe tbody tr th {\n",
       "        vertical-align: top;\n",
       "    }\n",
       "\n",
       "    .dataframe thead th {\n",
       "        text-align: right;\n",
       "    }\n",
       "</style>\n",
       "<table border=\"1\" class=\"dataframe\">\n",
       "  <thead>\n",
       "    <tr style=\"text-align: right;\">\n",
       "      <th></th>\n",
       "      <th>GUV_folder_path</th>\n",
       "      <th>GUV_file_name</th>\n",
       "      <th>MT_folder_path</th>\n",
       "      <th>MT_file_name</th>\n",
       "      <th>condition</th>\n",
       "      <th>date</th>\n",
       "    </tr>\n",
       "  </thead>\n",
       "  <tbody>\n",
       "    <tr>\n",
       "      <th>0</th>\n",
       "      <td>/mnt/d/lding/CLS/mousumiLiuDinner/raw_data/Mic...</td>\n",
       "      <td>Image10_GUV.TIF</td>\n",
       "      <td>/mnt/d/lding/CLS/mousumiLiuDinner/raw_data/Mic...</td>\n",
       "      <td>Image10_MT.TIF</td>\n",
       "      <td>1_10 Tau_Tubulin</td>\n",
       "      <td>Date 1</td>\n",
       "    </tr>\n",
       "    <tr>\n",
       "      <th>1</th>\n",
       "      <td>/mnt/d/lding/CLS/mousumiLiuDinner/raw_data/Mic...</td>\n",
       "      <td>Image1_GUV.TIF</td>\n",
       "      <td>/mnt/d/lding/CLS/mousumiLiuDinner/raw_data/Mic...</td>\n",
       "      <td>Image1_MT.TIF</td>\n",
       "      <td>1_10 Tau_Tubulin</td>\n",
       "      <td>Date 1</td>\n",
       "    </tr>\n",
       "    <tr>\n",
       "      <th>2</th>\n",
       "      <td>/mnt/d/lding/CLS/mousumiLiuDinner/raw_data/Mic...</td>\n",
       "      <td>Image2_GUV.TIF</td>\n",
       "      <td>/mnt/d/lding/CLS/mousumiLiuDinner/raw_data/Mic...</td>\n",
       "      <td>Image2_MT.TIF</td>\n",
       "      <td>1_10 Tau_Tubulin</td>\n",
       "      <td>Date 1</td>\n",
       "    </tr>\n",
       "    <tr>\n",
       "      <th>3</th>\n",
       "      <td>/mnt/d/lding/CLS/mousumiLiuDinner/raw_data/Mic...</td>\n",
       "      <td>Image3_GUV.TIF</td>\n",
       "      <td>/mnt/d/lding/CLS/mousumiLiuDinner/raw_data/Mic...</td>\n",
       "      <td>Image3_MT.TIF</td>\n",
       "      <td>1_10 Tau_Tubulin</td>\n",
       "      <td>Date 1</td>\n",
       "    </tr>\n",
       "    <tr>\n",
       "      <th>4</th>\n",
       "      <td>/mnt/d/lding/CLS/mousumiLiuDinner/raw_data/Mic...</td>\n",
       "      <td>Image4_GUV.TIF</td>\n",
       "      <td>/mnt/d/lding/CLS/mousumiLiuDinner/raw_data/Mic...</td>\n",
       "      <td>Image4_MT.TIF</td>\n",
       "      <td>1_10 Tau_Tubulin</td>\n",
       "      <td>Date 1</td>\n",
       "    </tr>\n",
       "    <tr>\n",
       "      <th>...</th>\n",
       "      <td>...</td>\n",
       "      <td>...</td>\n",
       "      <td>...</td>\n",
       "      <td>...</td>\n",
       "      <td>...</td>\n",
       "      <td>...</td>\n",
       "    </tr>\n",
       "    <tr>\n",
       "      <th>380</th>\n",
       "      <td>/mnt/d/lding/CLS/mousumiLiuDinner/raw_data/Mic...</td>\n",
       "      <td>2 uM tau mt encap guv88_w1561.TIF</td>\n",
       "      <td>/mnt/d/lding/CLS/mousumiLiuDinner/raw_data/Mic...</td>\n",
       "      <td>2 uM tau mt encap guv88_w2640.TIF</td>\n",
       "      <td>3_10 Tau_Tubulin</td>\n",
       "      <td>Date 5</td>\n",
       "    </tr>\n",
       "    <tr>\n",
       "      <th>381</th>\n",
       "      <td>/mnt/d/lding/CLS/mousumiLiuDinner/raw_data/Mic...</td>\n",
       "      <td>2 uM tau mt encap guv89_w1561.TIF</td>\n",
       "      <td>/mnt/d/lding/CLS/mousumiLiuDinner/raw_data/Mic...</td>\n",
       "      <td>2 uM tau mt encap guv89_w2640.TIF</td>\n",
       "      <td>3_10 Tau_Tubulin</td>\n",
       "      <td>Date 5</td>\n",
       "    </tr>\n",
       "    <tr>\n",
       "      <th>382</th>\n",
       "      <td>/mnt/d/lding/CLS/mousumiLiuDinner/raw_data/Mic...</td>\n",
       "      <td>2 uM tau mt encap guv91_w1561.TIF</td>\n",
       "      <td>/mnt/d/lding/CLS/mousumiLiuDinner/raw_data/Mic...</td>\n",
       "      <td>2 uM tau mt encap guv91_w2640.TIF</td>\n",
       "      <td>3_10 Tau_Tubulin</td>\n",
       "      <td>Date 5</td>\n",
       "    </tr>\n",
       "    <tr>\n",
       "      <th>383</th>\n",
       "      <td>/mnt/d/lding/CLS/mousumiLiuDinner/raw_data/Mic...</td>\n",
       "      <td>2 uM tau mt encap guv94_w1561.TIF</td>\n",
       "      <td>/mnt/d/lding/CLS/mousumiLiuDinner/raw_data/Mic...</td>\n",
       "      <td>2 uM tau mt encap guv94_w2640.TIF</td>\n",
       "      <td>3_10 Tau_Tubulin</td>\n",
       "      <td>Date 5</td>\n",
       "    </tr>\n",
       "    <tr>\n",
       "      <th>384</th>\n",
       "      <td>/mnt/d/lding/CLS/mousumiLiuDinner/raw_data/Mic...</td>\n",
       "      <td>2 uM tau mt encap guv98_w1561.TIF</td>\n",
       "      <td>/mnt/d/lding/CLS/mousumiLiuDinner/raw_data/Mic...</td>\n",
       "      <td>2 uM tau mt encap guv98_w2640.TIF</td>\n",
       "      <td>3_10 Tau_Tubulin</td>\n",
       "      <td>Date 5</td>\n",
       "    </tr>\n",
       "  </tbody>\n",
       "</table>\n",
       "<p>385 rows × 6 columns</p>\n",
       "</div>"
      ],
      "text/plain": [
       "                                       GUV_folder_path  \\\n",
       "0    /mnt/d/lding/CLS/mousumiLiuDinner/raw_data/Mic...   \n",
       "1    /mnt/d/lding/CLS/mousumiLiuDinner/raw_data/Mic...   \n",
       "2    /mnt/d/lding/CLS/mousumiLiuDinner/raw_data/Mic...   \n",
       "3    /mnt/d/lding/CLS/mousumiLiuDinner/raw_data/Mic...   \n",
       "4    /mnt/d/lding/CLS/mousumiLiuDinner/raw_data/Mic...   \n",
       "..                                                 ...   \n",
       "380  /mnt/d/lding/CLS/mousumiLiuDinner/raw_data/Mic...   \n",
       "381  /mnt/d/lding/CLS/mousumiLiuDinner/raw_data/Mic...   \n",
       "382  /mnt/d/lding/CLS/mousumiLiuDinner/raw_data/Mic...   \n",
       "383  /mnt/d/lding/CLS/mousumiLiuDinner/raw_data/Mic...   \n",
       "384  /mnt/d/lding/CLS/mousumiLiuDinner/raw_data/Mic...   \n",
       "\n",
       "                         GUV_file_name  \\\n",
       "0                      Image10_GUV.TIF   \n",
       "1                       Image1_GUV.TIF   \n",
       "2                       Image2_GUV.TIF   \n",
       "3                       Image3_GUV.TIF   \n",
       "4                       Image4_GUV.TIF   \n",
       "..                                 ...   \n",
       "380  2 uM tau mt encap guv88_w1561.TIF   \n",
       "381  2 uM tau mt encap guv89_w1561.TIF   \n",
       "382  2 uM tau mt encap guv91_w1561.TIF   \n",
       "383  2 uM tau mt encap guv94_w1561.TIF   \n",
       "384  2 uM tau mt encap guv98_w1561.TIF   \n",
       "\n",
       "                                        MT_folder_path  \\\n",
       "0    /mnt/d/lding/CLS/mousumiLiuDinner/raw_data/Mic...   \n",
       "1    /mnt/d/lding/CLS/mousumiLiuDinner/raw_data/Mic...   \n",
       "2    /mnt/d/lding/CLS/mousumiLiuDinner/raw_data/Mic...   \n",
       "3    /mnt/d/lding/CLS/mousumiLiuDinner/raw_data/Mic...   \n",
       "4    /mnt/d/lding/CLS/mousumiLiuDinner/raw_data/Mic...   \n",
       "..                                                 ...   \n",
       "380  /mnt/d/lding/CLS/mousumiLiuDinner/raw_data/Mic...   \n",
       "381  /mnt/d/lding/CLS/mousumiLiuDinner/raw_data/Mic...   \n",
       "382  /mnt/d/lding/CLS/mousumiLiuDinner/raw_data/Mic...   \n",
       "383  /mnt/d/lding/CLS/mousumiLiuDinner/raw_data/Mic...   \n",
       "384  /mnt/d/lding/CLS/mousumiLiuDinner/raw_data/Mic...   \n",
       "\n",
       "                          MT_file_name         condition    date  \n",
       "0                       Image10_MT.TIF  1_10 Tau_Tubulin  Date 1  \n",
       "1                        Image1_MT.TIF  1_10 Tau_Tubulin  Date 1  \n",
       "2                        Image2_MT.TIF  1_10 Tau_Tubulin  Date 1  \n",
       "3                        Image3_MT.TIF  1_10 Tau_Tubulin  Date 1  \n",
       "4                        Image4_MT.TIF  1_10 Tau_Tubulin  Date 1  \n",
       "..                                 ...               ...     ...  \n",
       "380  2 uM tau mt encap guv88_w2640.TIF  3_10 Tau_Tubulin  Date 5  \n",
       "381  2 uM tau mt encap guv89_w2640.TIF  3_10 Tau_Tubulin  Date 5  \n",
       "382  2 uM tau mt encap guv91_w2640.TIF  3_10 Tau_Tubulin  Date 5  \n",
       "383  2 uM tau mt encap guv94_w2640.TIF  3_10 Tau_Tubulin  Date 5  \n",
       "384  2 uM tau mt encap guv98_w2640.TIF  3_10 Tau_Tubulin  Date 5  \n",
       "\n",
       "[385 rows x 6 columns]"
      ]
     },
     "execution_count": 7,
     "metadata": {},
     "output_type": "execute_result"
    }
   ],
   "source": [
    "df"
   ]
  },
  {
   "cell_type": "markdown",
   "metadata": {},
   "source": [
    "### Segmentation with cellpose pretrained models\n"
   ]
  },
  {
   "cell_type": "code",
   "execution_count": 8,
   "metadata": {},
   "outputs": [
    {
     "name": "stderr",
     "output_type": "stream",
     "text": [
      "/home/ldin/anaconda3/envs/tf-gpu/lib/python3.9/site-packages/cellpose/resnet_torch.py:280: FutureWarning: You are using `torch.load` with `weights_only=False` (the current default value), which uses the default pickle module implicitly. It is possible to construct malicious pickle data which will execute arbitrary code during unpickling (See https://github.com/pytorch/pytorch/blob/main/SECURITY.md#untrusted-models for more details). In a future release, the default value for `weights_only` will be flipped to `True`. This limits the functions that could be executed during unpickling. Arbitrary objects will no longer be allowed to be loaded via this mode unless they are explicitly allowlisted by the user via `torch.serialization.add_safe_globals`. We recommend you start setting `weights_only=True` for any use case where you don't have full control of the loaded file. Please open an issue on GitHub for any issues related to this experimental feature.\n",
      "  state_dict = torch.load(filename, map_location=torch.device(\"cpu\"))\n"
     ]
    }
   ],
   "source": [
    "# DEFINE CELLPOSE MODEL\n",
    "# model_type='cyto3' or model_type='nuclei'\n",
    "model = models.Cellpose(gpu=False, model_type='cyto3')\n",
    "\n"
   ]
  },
  {
   "cell_type": "code",
   "execution_count": 9,
   "metadata": {},
   "outputs": [],
   "source": [
    "from skimage.measure import label, regionprops, regionprops_table\n",
    "from matplotlib import cm\n",
    "from skimage import filters"
   ]
  },
  {
   "cell_type": "code",
   "execution_count": 10,
   "metadata": {},
   "outputs": [
    {
     "name": "stderr",
     "output_type": "stream",
     "text": [
      "/tmp/ipykernel_73237/1700555406.py:3: MatplotlibDeprecationWarning: The get_cmap function was deprecated in Matplotlib 3.7 and will be removed two minor releases later. Use ``matplotlib.colormaps[name]`` or ``matplotlib.colormaps.get_cmap(obj)`` instead.\n",
      "  tab10 = cm.get_cmap('tab10', 10)\n",
      "/tmp/ipykernel_73237/1700555406.py:8: MatplotlibDeprecationWarning: The get_cmap function was deprecated in Matplotlib 3.7 and will be removed two minor releases later. Use ``matplotlib.colormaps[name]`` or ``matplotlib.colormaps.get_cmap(obj)`` instead.\n",
      "  newmap = cm.get_cmap('tab10', 200+1)\n"
     ]
    }
   ],
   "source": [
    "from matplotlib import cm\n",
    "# build the colormap with iterative tab10\n",
    "tab10 = cm.get_cmap('tab10', 10)\n",
    "for i in range(10):\n",
    "    tab10.colors = np.concatenate([tab10.colors,tab10.colors],axis=0)    \n",
    "tab10.colors = np.concatenate([np.zeros([1,4]),tab10.colors],axis=0)\n",
    "\n",
    "newmap = cm.get_cmap('tab10', 200+1)\n",
    "newmap.colors = tab10.colors[0:200+1,:]\n",
    "newmap.colors[0,:]  = np.zeros([1,4])\n",
    "newmap.colors[0,3] = 1"
   ]
  },
  {
   "cell_type": "code",
   "execution_count": 11,
   "metadata": {},
   "outputs": [],
   "source": [
    "number_img = len(df)\n",
    "guv_img_all = np.zeros([number_img,512,512])\n",
    "mt_img_all = np.zeros([number_img,512,512])\n",
    "\n",
    "for row_ID in range(number_img): \n",
    "    GUV_file_path = os.path.join(df.iloc[row_ID]['GUV_folder_path'],df.iloc[row_ID]['GUV_file_name'])\n",
    "    MT_file_path = os.path.join(df.iloc[row_ID]['MT_folder_path'],df.iloc[row_ID]['MT_file_name'])\n",
    "           \n",
    "    # print(file_path)\n",
    "    guv_img = imread(GUV_file_path)\n",
    "    mt_img = imread(MT_file_path)\n",
    "    if guv_img.ndim ==3:\n",
    "        guv_img = guv_img.max(axis=0).squeeze()\n",
    "    if mt_img.ndim ==3:\n",
    "        mt_img = mt_img.max(axis=0).squeeze()\n",
    "\n",
    "    guv_img_all[row_ID,0:guv_img.shape[0],0:guv_img.shape[1]] = guv_img\n",
    "    mt_img_all[row_ID,0:mt_img.shape[0],0:mt_img.shape[1]] = mt_img\n",
    "    "
   ]
  },
  {
   "cell_type": "code",
   "execution_count": 12,
   "metadata": {},
   "outputs": [],
   "source": [
    "guv_img_all[guv_img_all==0] = np.nan\n",
    "mt_img_all[mt_img_all==0] = np.nan"
   ]
  },
  {
   "cell_type": "code",
   "execution_count": 13,
   "metadata": {},
   "outputs": [],
   "source": [
    "guv_bg_img = np.nanmedian(guv_img_all, axis=0)\n",
    "mt_bg_img = np.nanmedian(mt_img_all, axis=0)\n",
    "\n",
    "\n",
    "from skimage.filters import median, gaussian\n",
    "from skimage.morphology import disk\n",
    "\n",
    "guv_bg_img_filtered = median(guv_bg_img, disk(5))\n",
    "mt_bg_img_filtered  = median(mt_bg_img, disk(5))\n",
    "\n",
    "# guv_bg_img_filtered_smooth = gaussian(guv_bg_img_filtered, 5)\n",
    "# mt_bg_img_filtered_smooth = gaussian(mt_bg_img_filtered, 5)\n"
   ]
  },
  {
   "cell_type": "code",
   "execution_count": 14,
   "metadata": {},
   "outputs": [
    {
     "data": {
      "text/plain": [
       "<matplotlib.image.AxesImage at 0x7f31acdffa00>"
      ]
     },
     "execution_count": 14,
     "metadata": {},
     "output_type": "execute_result"
    },
    {
     "data": {
      "image/png": "[encoded data removed]",
      "text/plain": [
       "<Figure size 640x480 with 1 Axes>"
      ]
     },
     "metadata": {},
     "output_type": "display_data"
    }
   ],
   "source": [
    "plt.imshow(guv_bg_img - guv_bg_img_filtered, clim=(0,70), cmap='gray')"
   ]
  },
  {
   "cell_type": "code",
   "execution_count": 15,
   "metadata": {},
   "outputs": [],
   "source": [
    "guv_bg_int = np.nanmedian(guv_bg_img.ravel()) \n",
    "mt_bg_int = np.nanmedian(mt_bg_img.ravel()) "
   ]
  },
  {
   "cell_type": "code",
   "execution_count": 16,
   "metadata": {},
   "outputs": [
    {
     "data": {
      "text/plain": [
       "156.0"
      ]
     },
     "execution_count": 16,
     "metadata": {},
     "output_type": "execute_result"
    }
   ],
   "source": [
    "guv_bg_int"
   ]
  },
  {
   "cell_type": "code",
   "execution_count": 17,
   "metadata": {},
   "outputs": [],
   "source": [
    "mt_bg_int = 122"
   ]
  },
  {
   "cell_type": "code",
   "execution_count": 18,
   "metadata": {},
   "outputs": [],
   "source": [
    "guv_bg_int = 110"
   ]
  },
  {
   "cell_type": "code",
   "execution_count": 19,
   "metadata": {},
   "outputs": [],
   "source": [
    "guv_img_all = np.nan_to_num(guv_img_all, nan=guv_bg_int)\n",
    "mt_img_all = np.nan_to_num(mt_img_all, nan=mt_bg_int)"
   ]
  },
  {
   "cell_type": "code",
   "execution_count": 20,
   "metadata": {},
   "outputs": [],
   "source": [
    "pad_guv_img_all = np.zeros([number_img,512+128,512+128]) + guv_bg_int\n",
    "guv_img_no_bg = np.zeros([number_img,512,512])\n",
    "\n",
    "pad_mt_img_all = np.zeros([number_img,512+128,512+128]) + mt_bg_int\n",
    "mt_img_no_bg = np.zeros([number_img,512,512])\n",
    "\n",
    "for i in range(number_img):\n",
    "\n",
    "    GUV_file_name = df.iloc[i]['GUV_file_name']\n",
    "    condition = df.iloc[i]['condition']\n",
    "    date = df.iloc[i]['date']\n",
    "\n",
    "    fig1, ax1 = plt.subplots(2, 4, figsize=(16, 8))\n",
    "    fig1.suptitle(condition+', '+date+', '+GUV_file_name)\n",
    "    ax1[0,0].imshow(guv_bg_img,cmap='gray',vmin=80,vmax=500)\n",
    "    ax1[0,0].axis('off')\n",
    "    ax1[0,0].set_title('bg')\n",
    "    ax1[0,1].imshow(guv_img_all[i,:,:],cmap='gray',vmin=80,vmax=500)\n",
    "    ax1[0,1].axis('off')\n",
    "    ax1[0,1].set_title('org')\n",
    "    # guv_img_no_bg[i,:,:]  = guv_img_all[i,:,:] \n",
    "    guv_img_no_bg[i,:,:]  = guv_img_all[i,:,:] - guv_bg_img_filtered + guv_bg_int + 20\n",
    "    \n",
    "    ax1[0,2].imshow(guv_img_no_bg[i,:,:],cmap='gray',vmin=80,vmax=500)\n",
    "    ax1[0,2].axis('off')\n",
    "    ax1[0,2].set_title('bg rm')\n",
    "    pad_guv_img_all[i,64:64+512,64:64+512] = guv_img_no_bg[i,:,:]\n",
    "    pad_guv_img_all[i,:] = pad_guv_img_all[i,:] + 10\n",
    "    ax1[0,3].imshow(pad_guv_img_all[i,:,:],cmap='gray',vmin=80,vmax=500)\n",
    "    ax1[0,3].axis('off')\n",
    "    ax1[0,3].set_title('pd')\n",
    "\n",
    "    ax1[1,0].imshow(mt_bg_img,cmap='gray',vmin=80,vmax=500)\n",
    "    ax1[1,0].axis('off')\n",
    "    ax1[1,0].set_title('bg')\n",
    "    ax1[1,1].imshow(mt_img_all[i,:,:],cmap='gray',vmin=80,vmax=500)\n",
    "    ax1[1,1].axis('off')\n",
    "    ax1[1,1].set_title('org')\n",
    "    mt_img_no_bg[i,:,:]  = mt_img_all[i,:,:] - mt_bg_img_filtered + mt_bg_int + 20\n",
    "    # mt_img_no_bg[i,:,:]  = mt_img_all[i,:,:] \n",
    "    ax1[1,2].imshow(mt_img_no_bg[i,:,:],cmap='gray',vmin=80,vmax=500)\n",
    "    ax1[1,2].axis('off')\n",
    "    ax1[1,2].set_title('bg rm')\n",
    "    pad_mt_img_all[i,64:64+512,64:64+512] = mt_img_no_bg[i,:,:]\n",
    "    pad_mt_img_all[i,:] = pad_mt_img_all[i,:] + 10\n",
    "    ax1[1,3].imshow(pad_mt_img_all[i,:,:],cmap='gray',vmin=80,vmax=500)\n",
    "    ax1[1,3].axis('off')\n",
    "    ax1[1,3].set_title('pd')\n",
    "\n",
    "    fig1.savefig(processed_folder+'pre-processed-guv-mt-'+ str(i).zfill(2) +'.jpg')\n",
    "    plt.close(fig1)\n"
   ]
  },
  {
   "cell_type": "code",
   "execution_count": 60,
   "metadata": {},
   "outputs": [],
   "source": [
    "stardist_display_folder =  processed_folder + 'GUV-MT_obj_detect_filter_selected_std15'\n",
    "obj_crop_panel_folder = processed_folder + 'GUV-MT_obj_panel_selected_std15'\n",
    "tiff_folder= processed_folder + 'GUV-MT_obj_tiff_selected_std15'\n",
    "png_folder= processed_folder + 'GUV-MT_obj_png_selected_std15'  \n",
    "singlecell_annotation_folder = processed_folder + 'singlecell_annotation_selected_std15' \n",
    "\n",
    "if not os.path.isdir(stardist_display_folder):   os.makedirs(stardist_display_folder)\n",
    "if not os.path.isdir(obj_crop_panel_folder):   os.makedirs(obj_crop_panel_folder)\n",
    "if not os.path.isdir(tiff_folder):   os.makedirs(tiff_folder)\n",
    "if not os.path.isdir(png_folder):   os.makedirs(png_folder)\n",
    "os.makedirs(singlecell_annotation_folder, exist_ok=True)"
   ]
  },
  {
   "cell_type": "code",
   "execution_count": 26,
   "metadata": {},
   "outputs": [],
   "source": [
    "mt_img_medianfiltered = median(mt_img, disk(3))"
   ]
  },
  {
   "cell_type": "code",
   "execution_count": 63,
   "metadata": {},
   "outputs": [],
   "source": [
    "guv_img_all_smooth = guv_img_all.copy()\n",
    "mt_img_all_smooth = mt_img_all.copy()\n",
    "for row_ID in range(df.shape[0]): \n",
    "    guv_img_all_smooth = filters.gaussian(guv_img_all[row_ID], sigma)\n",
    "    mt_img_all_smooth = filters.gaussian(mt_img_all[row_ID], sigma)    \n",
    "\n",
    "guv_1p = np.percentile(guv_img_all_smooth[guv_img_all_smooth>0],0.001)\n",
    "guv_99p = np.percentile(guv_img_all_smooth[guv_img_all_smooth>0],99.95)\n",
    "mt_1p = np.percentile(mt_img_all_smooth[mt_img_all_smooth>0],0.001)\n",
    "mt_99p = np.percentile(mt_img_all_smooth[mt_img_all_smooth>0],99.95)\n",
    "\n"
   ]
  },
  {
   "cell_type": "code",
   "execution_count": 65,
   "metadata": {},
   "outputs": [],
   "source": [
    "mt_1p=100"
   ]
  },
  {
   "cell_type": "code",
   "execution_count": 64,
   "metadata": {},
   "outputs": [
    {
     "data": {
      "text/plain": [
       "643.8565225813601"
      ]
     },
     "execution_count": 64,
     "metadata": {},
     "output_type": "execute_result"
    }
   ],
   "source": [
    "mt_99p"
   ]
  },
  {
   "cell_type": "code",
   "execution_count": 66,
   "metadata": {},
   "outputs": [
    {
     "name": "stderr",
     "output_type": "stream",
     "text": [
      "/tmp/ipykernel_73237/1384249652.py:230: DeprecationWarning: <tifffile.imsave> is deprecated. Use tifffile.imwrite\n",
      "  tifffile.imsave(os.path.join(png_folder, obj_filename),(display_image).astype(np.uint8))\n",
      "/tmp/ipykernel_73237/1384249652.py:239: FutureWarning: The behavior of DataFrame concatenation with empty or all-NA entries is deprecated. In a future version, this will no longer exclude empty or all-NA columns when determining the result dtypes. To retain the old behavior, exclude the relevant entries before the concat operation.\n",
      "  cell_df = pd.concat([cell_df, s], ignore_index=True)\n"
     ]
    }
   ],
   "source": [
    "cell_cropped_array =np.zeros([2000,96,96])\n",
    "cell_cropped_cellalone_array =np.zeros([2000,96,96])\n",
    "cell_ind=0\n",
    "plt.rcParams.update({'font.size': 16})\n",
    "sigma = 1\n",
    "\n",
    "\n",
    "\n",
    "cell_index = 0\n",
    "    \n",
    "cell_df = pd.DataFrame(columns=['GUV_folder_path','GUV_file_name','MT_folder_path','MT_file_name','condition','date','cell_ID','cell_index','cx','cy','diameter','bbox_1','bbox_2','bbox_3','bbox_4','obj_folder','obj_filename'])\n",
    "\n",
    "for row_ID in range(df.shape[0]): \n",
    "# for row_ID in range(20): \n",
    "    GUV_file_path = os.path.join(df.iloc[row_ID]['GUV_folder_path'],df.iloc[row_ID]['GUV_file_name'])\n",
    "    MT_file_path = os.path.join(df.iloc[row_ID]['MT_folder_path'],df.iloc[row_ID]['MT_file_name'])\n",
    "    \n",
    "    GUV_folder_path = df.iloc[row_ID]['GUV_folder_path']\n",
    "    MT_folder_path = df.iloc[row_ID]['MT_folder_path']\n",
    "    GUV_file_name = df.iloc[row_ID]['GUV_file_name']\n",
    "    MT_file_name = df.iloc[row_ID]['MT_file_name']\n",
    "    condition = df.iloc[row_ID]['condition']\n",
    "    date = df.iloc[row_ID]['date']\n",
    "    \n",
    "    guv_img = guv_img_all[row_ID,:,:]\n",
    "    mt_img = mt_img_all[row_ID,:,:]\n",
    "    mt_img_medianfiltered = median(mt_img, disk(3))\n",
    "    # img = imread(file_path)\n",
    "    # img = np.sqrt(img)\n",
    "    guv_smooth = filters.gaussian(guv_img, sigma)\n",
    "    guv_img_normed = normalize(guv_smooth,1,99)\n",
    "    mt_smooth = filters.gaussian(mt_img_medianfiltered, sigma)\n",
    "    guv_img_normed = (guv_smooth-guv_1p)/(guv_99p-guv_1p)\n",
    "    guv_img_normed[guv_img_normed<0] = 0\n",
    "    guv_img_normed[guv_img_normed>1] = 1\n",
    "    mt_img_normed = (mt_smooth-mt_1p)/(mt_99p-mt_1p)\n",
    "    mt_img_normed[mt_img_normed<0] = 0\n",
    "    mt_img_normed[mt_img_normed>1] = 1\n",
    "    \n",
    "    guv_mt_img = np.zeros([2,512,512])\n",
    "    guv_mt_img[0,:] = guv_img_normed\n",
    "    guv_mt_img[1,:] = mt_img_normed\n",
    "    \n",
    "    guv_img_pad = pad_guv_img_all[row_ID,:,:]\n",
    "    mt_img_pad = pad_mt_img_all[row_ID,:,:]\n",
    "    mt_img_pad = median(mt_img_pad, disk(3))\n",
    "    \n",
    "       # cellpose\n",
    "    labels, flows, styles, diams = model.eval(guv_mt_img[:,::2,::2],channels=[1,2])\n",
    "    us_manual = np.zeros([512,512])\n",
    "    us_manual[::2,::2]=labels\n",
    "    us_manual[1::2,::2]=labels\n",
    "    us_manual[::2,1::2]=labels\n",
    "    us_manual[1::2,1::2]=labels\n",
    "    \n",
    "    labels = us_manual.astype(int)\n",
    "    \n",
    "    fig2, ax2 = plt.subplots(2, 3, figsize=(16, 8))\n",
    "    fig2.suptitle(condition+', '+date+', '+GUV_file_name)\n",
    "    ax2[0,0].imshow(guv_img_normed, clim=(0,1), cmap='gray')    \n",
    "    ax2[0,0].axis('off')\n",
    "    ax2[0,0].set_title('GUV')\n",
    "    ax2[0,1].imshow(guv_img_normed, clim=(0,1), cmap='gray')\n",
    "    ax2[0,1].imshow(labels, cmap=newmap, alpha=0.7,interpolation='None',vmax = 201,vmin = 0)\n",
    "    ax2[0,1].axis('off')\n",
    "    ax2[0,1].set_title('Segmentation')\n",
    "    \n",
    "    ax2[1,0].imshow(mt_img_normed, clim=(0,1), cmap='gray')    \n",
    "    ax2[1,0].axis('off')\n",
    "    ax2[1,0].set_title('MT')\n",
    "    \n",
    "    ax2[1,1].imshow(mt_img_normed, clim=(0,1), cmap='gray')\n",
    "    ax2[1,1].imshow(labels, cmap=newmap, alpha=0.7,interpolation='None',vmax = 201,vmin = 0)\n",
    "    ax2[1,1].axis('off')\n",
    "    ax2[1,1].set_title('Segmentation')\n",
    "\n",
    "    regionprops_pax = regionprops(labels,intensity_image=mt_img)\n",
    "\n",
    "    bad_region_flag = np.zeros(labels.max())\n",
    "\n",
    "    for region_i in range(0,labels.max()):\n",
    "        # print([regionprops_pax[region_i]['Area'],regionprops_pax[region_i]['Eccentricity']])\n",
    "        if(regionprops_pax[region_i]['Eccentricity']>0.5 or regionprops_pax[region_i]['Area']<1000 or regionprops_pax[region_i]['Area']>40000):\n",
    "            bad_region_flag[region_i]=1\n",
    "            labels[labels==region_i+1] =0\n",
    "            continue\n",
    "        else:\n",
    "            img_content = mt_img_medianfiltered[labels==region_i+1]\n",
    "            img_content = img_content[img_content>mt_bg_int]\n",
    "            if(img_content.shape[0] == 0):\n",
    "                bad_region_flag[region_i] = 1\n",
    "                labels[labels==region_i+1] = 0       \n",
    "                continue\n",
    "            else:\n",
    "                # print(img_content.std())\n",
    "                if(img_content.std()<15):\n",
    "                    bad_region_flag[region_i] = 1\n",
    "                    labels[labels==region_i+1] = 0       \n",
    "                    continue\n",
    "\n",
    "    \n",
    "    ax2[0,2].imshow(guv_img_normed, clim=(0,1), cmap='gray')\n",
    "    ax2[0,2].imshow(labels, cmap=newmap, alpha=0.7,interpolation='None',vmax = 201,vmin = 0)\n",
    "    ax2[0,2].axis('off')\n",
    "    ax2[0,2].set_title('filtered')\n",
    "\n",
    "\n",
    "    ax2[1,2].imshow(mt_img_normed, clim=(0,1), cmap='gray')\n",
    "    # ax2[1,2].imshow(labels, cmap=newmap, alpha=0.7,interpolation='None',vmax = 201,vmin = 0)\n",
    "    ax2[1,2].axis('off')\n",
    "    ax2[1,2].set_title('filtered')\n",
    "\n",
    "   \n",
    "    if labels.max() == 0:   \n",
    "        fig2.savefig(os.path.join(stardist_display_folder, condition+'-'+date+'-'+GUV_file_name+'_cellpose_filter.png'))\n",
    "        plt.close(fig2)     \n",
    "        continue\n",
    "    \n",
    "    labels_pad = np.zeros_like(guv_img_pad)\n",
    "    labels_pad[64:64+512,64:64+512] = labels\n",
    "    \n",
    "\n",
    "    fig3, ax3 = plt.subplots(1, int(len(regionprops_pax) -bad_region_flag.sum()), figsize=(12, 6))\n",
    "\n",
    "    fig3.suptitle(condition+', '+date+', ' + GUV_file_name)\n",
    "    good_ind = 0\n",
    "    for obj_i in range(len(regionprops_pax)):\n",
    "        if(bad_region_flag[obj_i]>0):\n",
    "            continue\n",
    "        good_ind = good_ind + 1\n",
    "        Centroid = regionprops_pax[obj_i]['Centroid']\n",
    "        BBox = regionprops_pax[obj_i]['bbox']\n",
    "        Area = regionprops_pax[obj_i]['area']\n",
    "        Diameter = regionprops_pax[obj_i]['equivalent_diameter_area']\n",
    "        cell_ID = regionprops_pax[obj_i]['label']\n",
    "        \n",
    "        cx = round(Centroid[0]) + 64\n",
    "        cy = round(Centroid[1]) + 64\n",
    "\n",
    "\n",
    "        mt_img_pad = np.zeros([512+128,512+128]) + (mt_bg_int-mt_1p)/(mt_99p-mt_1p)\n",
    "        mt_img_pad[64:-64,64:-64] = mt_img_normed\n",
    "\n",
    "        crop_img = mt_img_pad[cx-48:cx+48,cy-48:cy+48]\n",
    "        crop_label = (labels_pad[cx-48:cx+48,cy-48:cy+48]).copy().astype(float)\n",
    "\n",
    "\n",
    "        radius_estimated = Diameter/2\n",
    "        circle = plt.Circle((cy-64+1, cx-64+1), radius_estimated, color=newmap.colors[obj_i+1,:], fill=False, linewidth=3)\n",
    "        ax2[1,2].add_patch(circle)\n",
    "\n",
    "        \n",
    "        crop_img_cellalone = np.zeros_like(crop_img) + (mt_bg_int-mt_1p)/(mt_99p-mt_1p)\n",
    "\n",
    "        mask = crop_label==cell_ID\n",
    "        mask_smooth = filters.gaussian(mask.astype(float), sigma)\n",
    "        mask_smooth_bw = mask_smooth>0.1\n",
    "\n",
    "        crop_img_cellalone[mask_smooth_bw>0] = crop_img[mask_smooth_bw>0]\n",
    "        crop_img_cellalone[crop_img_cellalone<(100-mt_1p)/(mt_99p-mt_1p)]=(100-mt_1p)/(mt_99p-mt_1p)\n",
    "        crop_img_cellalone = crop_img_cellalone - (80-mt_1p)/(mt_99p-mt_1p)\n",
    "        cell_cropped_array[cell_ind,:,:] = crop_img\n",
    "        cell_cropped_cellalone_array[cell_ind,:,:]=crop_img_cellalone\n",
    "        cell_ind = cell_ind+1\n",
    "\n",
    "        if len(regionprops_pax) -bad_region_flag.sum() == 1:\n",
    "            ax3.imshow(crop_img_cellalone,cmap='gray',vmin=20,vmax=400)\n",
    "            ax3.axis('off')\n",
    "            ax3.set_title('obj '+str(good_ind).zfill(2))\n",
    "        else:\n",
    "            ax3[good_ind-1].imshow(crop_img_cellalone,cmap='gray',vmin=20,vmax=400)\n",
    "            ax3[good_ind-1].axis('off')\n",
    "            ax3[good_ind-1].set_title('obj '+str(good_ind).zfill(2))\n",
    "\n",
    "        cell_index = cell_index + 1       \n",
    "        \n",
    "\n",
    "        fig4, ax4 = plt.subplots(2, 3, figsize=(12, 8))\n",
    "        fig4.suptitle(condition+', '+date+', '+GUV_file_name)\n",
    "        ax4[0,0].imshow(guv_img_normed, clim=(0,1), cmap='gray')    \n",
    "        ax4[0,0].axis('off')\n",
    "        ax4[0,0].set_title('img')    \n",
    "        ax4[0,0].set_title('GUV')\n",
    "    \n",
    "        ax4[0,1].imshow(guv_img_normed, clim=(0,1), cmap='gray')\n",
    "        ax4[0,1].imshow(labels, cmap=newmap, alpha=0.7,interpolation='None',vmax = 201,vmin = 0)\n",
    "        ax4[0,1].axis('off')\n",
    "        ax4[0,1].set_title('filtered')\n",
    "\n",
    "        ax4[1,0].imshow(mt_img_normed, clim=(0,1), cmap='gray')    \n",
    "        ax4[1,0].axis('off')\n",
    "        ax4[1,0].set_title('MT')\n",
    "\n",
    "        ax4[1,1].imshow(mt_img_normed, clim=(0,1), cmap='gray')\n",
    "        ax4[1,1].axis('off')       \n",
    "        circle4 = plt.Circle((cy-64+1, cx-64+1), radius_estimated, color=newmap.colors[obj_i+1,:], fill=False, linewidth=3)         \n",
    "        ax4[1,1].add_patch(circle4)\n",
    "        ax4[1,1].set_title('In this image: Cell ' + str(cell_ID).zfill(2)  )\n",
    "        \n",
    "        ax4[0,2].axis('off') \n",
    "        ax4[0,2].set_title('All cell index='+str(cell_index).zfill(4))\n",
    "        \n",
    "        display_image = crop_img_cellalone \n",
    "        # display_image = display_image/(3)\n",
    "        # display_image[display_image<0]=0\n",
    "        # display_image[display_image>255]=255\n",
    "        \n",
    "        ax4[1,2].imshow(display_image, clim=(0,1), cmap='gray')\n",
    "        ax4[1,2].set_title('Cropped object')\n",
    "        ax4[1,2].axis('off') \n",
    "        \n",
    "        \n",
    "\n",
    "        fig4.savefig(os.path.join(singlecell_annotation_folder, condition+'-'+date+'-'+GUV_file_name+'_cell'+str(cell_ID).zfill(2)+'_cellindex='+str(cell_index).zfill(4)+'.png'))\n",
    "        plt.close(fig4)\n",
    "\n",
    "\n",
    "\n",
    "        # obj_filename = condition+'-'+date+'-'+ GUV_file_name + '_cell'+str(cell_ID).zfill(2)+'_cellindex='+str(cell_index).zfill(4)+'.png'\n",
    "        # tifffile.imsave(os.path.join(png_folder, obj_filename),crop_img.astype(np.float16))  \n",
    "        \n",
    "        # obj_filename = condition+'-'+date+'-'+ GUV_file_name + '_cell'+str(cell_ID).zfill(2)+'_cellindex='+str(cell_index).zfill(4)+'.tif'\n",
    "        # tifffile.imwrite(os.path.join(tiff_folder, obj_filename),crop_img.astype(np.float16))  \n",
    "\n",
    "\n",
    "        display_image = display_image*255\n",
    "        display_image[display_image>=255]=254\n",
    "\n",
    "        obj_filename = condition+'-'+date+'-'+ GUV_file_name + '_cell'+str(cell_ID).zfill(2)+'_cellindex'+str(cell_index).zfill(4)+'.png'\n",
    "        tifffile.imsave(os.path.join(png_folder, obj_filename),(display_image).astype(np.uint8))  \n",
    "        \n",
    "        obj_filename = condition+'-'+date+'-'+ GUV_file_name + '_cell'+str(cell_ID).zfill(2)+'_cellindex'+str(cell_index).zfill(4)+'.tif'\n",
    "        tifffile.imwrite(os.path.join(tiff_folder, obj_filename),crop_img_cellalone.astype(np.float16))  \n",
    "        \n",
    "        \n",
    "        s = pd.DataFrame([[GUV_folder_path, GUV_file_name, MT_folder_path, MT_file_name, condition,date,cell_ID, cell_index,Centroid[0],Centroid[1],Diameter,BBox[0],BBox[1],BBox[2],BBox[3],tiff_folder,obj_filename]],\n",
    "                         columns=['GUV_folder_path','GUV_file_name','MT_folder_path','MT_file_name','condition','date','cell_ID','cell_index','cx','cy','diameter','bbox_1','bbox_2','bbox_3','bbox_4','obj_folder','obj_filename'])\n",
    "        \n",
    "        cell_df = pd.concat([cell_df, s], ignore_index=True)\n",
    "\n",
    "    fig2.savefig(os.path.join(stardist_display_folder, condition+'-'+date+'-'+GUV_file_name+'_cellpose_filter.png'))\n",
    "    plt.close(fig2)    \n",
    "\n",
    "    fig3.savefig(os.path.join(obj_crop_panel_folder, condition+'-'+date+'-'+GUV_file_name+'_guv_mt_obj_crop_panel.png'))    \n",
    "    plt.close(fig3)\n",
    "\n",
    "# tifffile.imwrite(os.path.join(processed_folder, 'mt_all_cell_cropped_array.tiff'),cell_cropped_array.astype(np.float16))  \n",
    "# tifffile.imwrite(os.path.join(processed_folder, 'mt_all_cellalone_cropped_array.tiff'),cell_cropped_cellalone_array.astype(np.float16))  \n"
   ]
  },
  {
   "cell_type": "code",
   "execution_count": null,
   "metadata": {},
   "outputs": [
    {
     "data": {
      "text/plain": [
       "100"
      ]
     },
     "execution_count": 67,
     "metadata": {},
     "output_type": "execute_result"
    }
   ],
   "source": [
    "mt_1p"
   ]
  },
  {
   "cell_type": "code",
   "execution_count": null,
   "metadata": {},
   "outputs": [],
   "source": [
    "cell_df.to_csv('/mnt/d/lding/CLS/mousumiLiuDinner/raw_data/Microtubule_GUV-Liu-20250106T211105Z-001/guv_mt_cell_df_circle_selected_std15.csv')"
   ]
  },
  {
   "cell_type": "code",
   "execution_count": null,
   "metadata": {},
   "outputs": [],
   "source": [
    "tifffile.imwrite(os.path.join(processed_folder, 'mt_all_cellalone_cropped_array_selected_std15.tiff'),cell_cropped_cellalone_array.astype(np.float16))  "
   ]
  },
  {
   "cell_type": "code",
   "execution_count": null,
   "metadata": {},
   "outputs": [],
   "source": []
  }
 ],
 "metadata": {
  "kernelspec": {
   "display_name": "tf-gpu",
   "language": "python",
   "name": "python3"
  },
  "language_info": {
   "codemirror_mode": {
    "name": "ipython",
    "version": 3
   },
   "file_extension": ".py",
   "mimetype": "text/x-python",
   "name": "python",
   "nbconvert_exporter": "python",
   "pygments_lexer": "ipython3",
   "version": "3.9.19"
  }
 },
 "nbformat": 4,
 "nbformat_minor": 2
}
